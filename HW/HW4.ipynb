{
 "cells": [
  {
   "cell_type": "markdown",
   "id": "9df52092",
   "metadata": {},
   "source": [
    "# Homework 4\n"
   ]
  },
  {
   "cell_type": "code",
   "execution_count": 1,
   "id": "70aae716",
   "metadata": {
    "tags": []
   },
   "outputs": [
    {
     "name": "stdout",
     "output_type": "stream",
     "text": [
      "cuda:0\n"
     ]
    }
   ],
   "source": [
    "%matplotlib inline\n",
    "import matplotlib.pyplot as plt\n",
    "import numpy as np\n",
    "from tqdm import tqdm\n",
    "\n",
    "import torch\n",
    "from torch import nn\n",
    "import torch.nn.functional as F\n",
    "from torch.utils.data import DataLoader\n",
    "from matplotlib import pyplot as plt\n",
    "import os.path\n",
    "from os.path import exists\n",
    "import os\n",
    "\n",
    "from sklearn.decomposition import PCA\n",
    "\n",
    "import time\n",
    "import numpy as np\n",
    "import h5py\n",
    "import urllib.request\n",
    "\n",
    "device=\"cpu\"\n",
    "if torch.cuda.is_available():\n",
    "    torch.backends.cudnn.deterministic = True\n",
    "    device=\"cuda:0\"\n",
    "print(device)    "
   ]
  },
  {
   "cell_type": "markdown",
   "id": "80193b92",
   "metadata": {},
   "source": [
    "## Problem 1 (40 points): Revisiting our CNN from lecture\n",
    "\n",
    "Let's revisit the CNN notebook that we worked through in class, and modify the code there to do something slightly different.\n",
    "\n",
    "First, let's import our data:"
   ]
  },
  {
   "cell_type": "code",
   "execution_count": 2,
   "id": "0e179ee2",
   "metadata": {
    "tags": []
   },
   "outputs": [
    {
     "data": {
      "text/plain": [
       "<torch._C.Generator at 0x22e15ad5590>"
      ]
     },
     "execution_count": 2,
     "metadata": {},
     "output_type": "execute_result"
    }
   ],
   "source": [
    "output = 'ising_data.npz'\n",
    "\n",
    "if not exists(output):\n",
    "    import gdown\n",
    "    url = \"https://drive.google.com/u/0/uc?export=download&confirm=HgGH&id=1Ihxt1hb3Kyv0IrjHlsYb9x9QY7l7n2Sl\"\n",
    "    gdown.download(url, output, quiet=True)\n",
    "\n",
    "f = np.load(output, allow_pickle=True)\n",
    "n_train = 20000\n",
    "n_test=len(f[\"C\"])-n_train\n",
    "\n",
    "x_train, x_test = f[\"C\"][:n_train], f[\"C\"][n_train:]\n",
    "y_train, y_test = f[\"T\"][:n_train], f[\"T\"][n_train:]\n",
    "\n",
    "x_train_tensor=torch.tensor(x_train,dtype=torch.float).unsqueeze(1)\n",
    "y_train_tensor=torch.tensor(y_train,dtype=torch.float).unsqueeze(1)\n",
    "\n",
    "x_test_tensor=torch.tensor(x_test,dtype=torch.float).unsqueeze(1)\n",
    "y_test_tensor=torch.tensor(y_test,dtype=torch.float).unsqueeze(1)\n",
    "\n",
    "xy_train = torch.utils.data.TensorDataset(x_train_tensor.float(),y_train_tensor)\n",
    "\n",
    "torch.manual_seed(123)"
   ]
  },
  {
   "cell_type": "markdown",
   "id": "64479c70",
   "metadata": {},
   "source": [
    "In the CNN lecture notebook, we used a CNN to predict whether the image had crossed the phase transition boundary or not.  What I'd like to do is a followup that I may have mentioned in lecture: let's use the CNN to predict the temperature that corresponds to the image, instead of a binary \"yes/no\" decision.  Some things to consider:\n",
    "\n",
    "* What should the loss function be?\n",
    "\n",
    "**Now your job**: setup and train a CNN that predicts the temperature associated with each image.  Here are some requirements, which may be different from what was done in the CNN notebook in class:\n",
    "\n",
    "* Have the first convolutional layer use 16 filters\n",
    "* Have the second convolutional layer use 32 filters\n",
    "* Have the fully-connected part at the end include two layers with 32 nodes\n",
    "* Use the `Adam` optimizer with a learning rate of 0.01\n",
    "* Run for 10 epochs\n",
    "\n",
    "\n",
    "As part of this problem, you should produce:\n",
    "* The normal loss plot showing the training and test losses vs the number of epochs\n",
    "* Once the network is trained, pass the test data through the network again, and get the predicted values.  Compare the predicted values with the true values; plot the difference and find the bias and variance of the network.\n",
    "\n",
    "Some hints:\n",
    "* You don't necessarily need to run the code for the full 16+32 convolutional filter network every time, the training takes a little while!  Feel free to debug with smaller numbers of filters.\n",
    "* However, the setup is a bit delicate, so even small changes in the hyperparameters specified above may cause the training to not converge."
   ]
  },
  {
   "cell_type": "code",
   "execution_count": 3,
   "id": "07915cb8-af8c-4bd4-9e9c-de734c613ca1",
   "metadata": {
    "tags": []
   },
   "outputs": [],
   "source": [
    "# code for creating the neural net\n",
    "\n",
    "class Net(torch.nn.Module):\n",
    "    def __init__(self):\n",
    "        super(Net, self).__init__()\n",
    "        \n",
    "        # two convolutional layers\n",
    "        self.conv1 = torch.nn.Conv2d( 1, 16, kernel_size=3, padding=1)\n",
    "        self.conv2 = torch.nn.Conv2d(16, 32, kernel_size=3, padding=1)\n",
    "\n",
    "        # fully connected layer\n",
    "        self.fc1 = torch.nn.Linear(32, 32)\n",
    "        self.fc2 = torch.nn.Linear(32, 1)\n",
    "\n",
    "    # x represents our data\n",
    "    def forward(self, x):\n",
    "        x = self.conv1(x)\n",
    "        x = F.relu(x)\n",
    "        \n",
    "        # Run max pooling over x\n",
    "        # x = F.max_pool2d(x, 2)\n",
    "\n",
    "        x = self.conv2(x)\n",
    "        x = F.relu(x)\n",
    "\n",
    "        # the (1,1) makes this into global average pooling\n",
    "        x = F.adaptive_avg_pool2d(x,(1,1))\n",
    "    \n",
    "        # Flatten x with start_dim=1, i.e. only keep one number per channel per event.\n",
    "        x=torch.flatten(x,1)\n",
    "      \n",
    "        # Pass data through the fully connected layer.\n",
    "        x = self.fc1(x)\n",
    "        x = F.relu(x)\n",
    "        x = self.fc2(x)\n",
    "        \n",
    "        return x"
   ]
  },
  {
   "cell_type": "code",
   "execution_count": 4,
   "id": "d9c65d1d",
   "metadata": {
    "tags": []
   },
   "outputs": [
    {
     "name": "stdout",
     "output_type": "stream",
     "text": [
      "Net(\n",
      "  (conv1): Conv2d(1, 16, kernel_size=(3, 3), stride=(1, 1), padding=(1, 1))\n",
      "  (conv2): Conv2d(16, 32, kernel_size=(3, 3), stride=(1, 1), padding=(1, 1))\n",
      "  (fc1): Linear(in_features=32, out_features=32, bias=True)\n",
      "  (fc2): Linear(in_features=32, out_features=1, bias=True)\n",
      ")\n",
      "5889\n"
     ]
    }
   ],
   "source": [
    "# create the net, define the loss fuction and optimizer\n",
    "net = Net()\n",
    "print(net)\n",
    "print(np.sum([np.prod(theta.shape) for theta in net.parameters()]))\n",
    "\n",
    "torch.save(net.state_dict(), 'net4.pth') # saving the network\n",
    "\n",
    "loss_fn = torch.nn.MSELoss()\n",
    "optimizer = torch.optim.Adam(net.parameters(), lr=0.01)"
   ]
  },
  {
   "cell_type": "code",
   "execution_count": 5,
   "id": "65837b8e",
   "metadata": {
    "tags": []
   },
   "outputs": [
    {
     "name": "stdout",
     "output_type": "stream",
     "text": [
      "Completed epoch 0 in  8.4, Train loss = 2.300218105316162, Test loss = 1.5244591236114502\n",
      "Completed epoch 1 in  8.3, Train loss = 1.017317771911621, Test loss = 0.9424663782119751\n",
      "Completed epoch 2 in  8.3, Train loss = 0.2606332302093506, Test loss = 0.36978450417518616\n",
      "Completed epoch 3 in  8.4, Train loss = 0.08539678156375885, Test loss = 0.07899589091539383\n",
      "Completed epoch 4 in  8.5, Train loss = 0.09856810420751572, Test loss = 0.062151480466127396\n",
      "Completed epoch 5 in  8.3, Train loss = 0.09773106127977371, Test loss = 0.07639311999082565\n",
      "Completed epoch 6 in  8.3, Train loss = 0.07148254662752151, Test loss = 0.07526519894599915\n",
      "Completed epoch 7 in  8.5, Train loss = 0.052012477070093155, Test loss = 0.05900106951594353\n",
      "Completed epoch 8 in  8.4, Train loss = 0.046638574451208115, Test loss = 0.05109533295035362\n",
      "Completed epoch 9 in  8.5, Train loss = 0.04838944971561432, Test loss = 0.04741743579506874\n"
     ]
    }
   ],
   "source": [
    "# train the net\n",
    "torch.manual_seed(123)\n",
    "net.load_state_dict(torch.load('net4.pth'))\n",
    "\n",
    "losses = []\n",
    "losses_test = []\n",
    "\n",
    "loader = torch.utils.data.DataLoader(xy_train, batch_size=int(len(x_train)/5), shuffle=True)\n",
    "\n",
    "for epoch in range(10):\n",
    "    start_time = time.time()\n",
    "    for x_batch, y_batch in loader:\n",
    "        y_pred = net(x_batch)\n",
    "        optimizer.zero_grad()\n",
    "        loss = loss_fn(y_pred, y_batch)\n",
    "        loss.backward()\n",
    "        optimizer.step()\n",
    "    losses.append(loss.data)\n",
    "    net.eval() # configure the model for evaluation (testing)\n",
    "    y_pred = net(x_test_tensor)\n",
    "    test_loss=loss_fn(y_pred, y_test_tensor)\n",
    "    losses_test.append(test_loss.data)\n",
    "    end_time=time.time()\n",
    "    elapsed_time = end_time - start_time\n",
    "    print(f\"Completed epoch {epoch} in {elapsed_time: .1f}, Train loss = {loss.data}, Test loss = {test_loss.data}\")"
   ]
  },
  {
   "cell_type": "code",
   "execution_count": 6,
   "id": "1377619c",
   "metadata": {},
   "outputs": [
    {
     "data": {
      "image/png": "[encoded data removed]",
      "text/plain": [
       "<Figure size 432x288 with 1 Axes>"
      ]
     },
     "metadata": {
      "needs_background": "light"
     },
     "output_type": "display_data"
    }
   ],
   "source": [
    "# plot the losses'\n",
    "plt.plot(losses, '.', label=\"Train\")\n",
    "plt.plot(losses_test, '.', label=\"Test\")\n",
    "plt.legend()\n",
    "plt.xlabel('Training Epoch')\n",
    "plt.ylabel('MSE Loss')\n",
    "plt.yscale('log')"
   ]
  },
  {
   "cell_type": "code",
   "execution_count": 7,
   "id": "a8aacb9d",
   "metadata": {},
   "outputs": [
    {
     "data": {
      "image/png": "[encoded data removed]",
      "text/plain": [
       "<Figure size 432x288 with 1 Axes>"
      ]
     },
     "metadata": {
      "needs_background": "light"
     },
     "output_type": "display_data"
    },
    {
     "data": {
      "image/png": "[encoded data removed]",
      "text/plain": [
       "<Figure size 432x288 with 1 Axes>"
      ]
     },
     "metadata": {
      "needs_background": "light"
     },
     "output_type": "display_data"
    },
    {
     "name": "stdout",
     "output_type": "stream",
     "text": [
      "Bias (mean of the differences) = 0.028308\n",
      "Variance = 0.046616\n"
     ]
    }
   ],
   "source": [
    "# evaluate and plot the losses for individual training dataset events\n",
    "net.eval()\n",
    "y_pred = np.array(net(x_test_tensor).data.flatten())\n",
    "\n",
    "diff = y_pred - y_test\n",
    "\n",
    "plt.scatter(y_test, y_pred)\n",
    "plt.xlabel('True Temperatures')\n",
    "plt.ylabel('Predicted Temperatures')\n",
    "plt.show()\n",
    "\n",
    "plt.hist(diff,bins=100,range=[-3,3])\n",
    "plt.xlabel(\"Frequency\")\n",
    "plt.ylabel('Temperature diff')\n",
    "plt.show()\n",
    "\n",
    "print(\"Bias (mean of the differences) = %f\" % np.mean(diff))\n",
    "print(\"Variance = %f\" % np.var(diff))"
   ]
  },
  {
   "cell_type": "markdown",
   "id": "8c2b77c8",
   "metadata": {},
   "source": [
    "## Problem 2 (20 points): Principal Components Analysis\n",
    "\n",
    "Let's perform a PCA test on some input data that we'll use for Problem #3."
   ]
  },
  {
   "cell_type": "markdown",
   "id": "51324de9",
   "metadata": {},
   "source": [
    "First let's get some training and test datasets that we can use...  we'll start with one of the files that we used from HW3:"
   ]
  },
  {
   "cell_type": "code",
   "execution_count": 8,
   "id": "6d2c2de3",
   "metadata": {},
   "outputs": [],
   "source": [
    "def clean_sample(sample):\n",
    "    events=[]\n",
    "    for i in sample:\n",
    "        if i[0]>2:\n",
    "            events.append(i)\n",
    "    return events\n",
    "\n",
    "def get_sample_from_URL(samplename,branches):\n",
    "    \n",
    "    if not os.path.isfile(samplename):\n",
    "        urllib.request.urlretrieve(\"http://mhance.scipp.ucsc.edu/%s\" % samplename, samplename)\n",
    "\n",
    "    alldata=None\n",
    "    with h5py.File(samplename,'r') as hdf5file:\n",
    "        data=hdf5file[list(hdf5file.keys())[0]][\"lowleveltree\"]\n",
    "        num_backgr_events=len(data[\"numjet\"])\n",
    "        alldata = data[branches]    \n",
    "\n",
    "    Alldata=[[float(i) for i in j] for j in alldata]\n",
    "    Alldata_clean=clean_sample(Alldata)\n",
    "    return Alldata_clean"
   ]
  },
  {
   "cell_type": "code",
   "execution_count": 9,
   "id": "2c575f3b",
   "metadata": {},
   "outputs": [],
   "source": [
    "# now scale based on the training data:\n",
    "from sklearn.preprocessing import StandardScaler\n",
    "sc = StandardScaler()\n",
    "\n",
    "branches=(\"numjet\",\"numlepton\",\"numbtagjet\",\n",
    "          \"met\",\"metphi\",\n",
    "          \"jet1pT\", \"jet1eta\", \"jet1phi\",\"jet1b\",\n",
    "          \"jet2pT\", \"jet2eta\", \"jet2phi\",\"jet2b\",\n",
    "          \"jet3pT\", \"jet3eta\", \"jet3phi\",\"jet3b\")\n",
    "\n",
    "traindata=get_sample_from_URL('lowlevelAna_ttbar.hf5',branches)\n",
    "x_train = sc.fit_transform(traindata)\n",
    "train=torch.tensor(x_train,dtype=torch.float)\n",
    "\n",
    "testdata=get_sample_from_URL('lowlevelAna_test.hf5',branches)\n",
    "x_test = sc.transform(testdata)\n",
    "test=torch.tensor(x_test,dtype=torch.float)"
   ]
  },
  {
   "cell_type": "markdown",
   "id": "a62a1e49",
   "metadata": {},
   "source": [
    "Using the `scikit-learn` PCA tool, analyze the `ttbar` dataset (`x_train`) retrieved above.\n",
    "\n",
    "* Find the number of components needed to explain 50% of the variance.\n",
    "* List the magnitudes of that number of leading eigenvalues, as a fraction of the total variance they capture"
   ]
  },
  {
   "cell_type": "code",
   "execution_count": 10,
   "id": "948d75d7",
   "metadata": {},
   "outputs": [
    {
     "data": {
      "image/png": "[encoded data removed]",
      "text/plain": [
       "<Figure size 432x288 with 1 Axes>"
      ]
     },
     "metadata": {
      "needs_background": "light"
     },
     "output_type": "display_data"
    },
    {
     "name": "stdout",
     "output_type": "stream",
     "text": [
      "Explanied variance array: [0.15115807 0.2541584  0.3479097  0.43165682 0.51334968 0.57964796\n",
      " 0.64179913 0.70299069 0.76102156 0.8083036  0.85089644 0.88876157\n",
      " 0.92450541 0.95757566 0.97989425 0.99199516 1.        ]\n",
      "\n",
      "Eigenvalues array: [2.56995717 1.75118951 1.59393955 1.42385066 1.3889244  1.12718927\n",
      " 1.05668078 1.04036593 0.98662837 0.80387912 0.72415432 0.64377485\n",
      " 0.60770917 0.56225322 0.37945587 0.20573718 0.13609652]\n",
      "\n",
      "Eigenvalues over variance array: [0.15115807 0.10300033 0.0937513  0.08374712 0.08169285 0.06629829\n",
      " 0.06215116 0.06119157 0.05803087 0.04728204 0.04259284 0.03786513\n",
      " 0.03574384 0.03307024 0.02231859 0.01210092 0.00800484]\n",
      "\n",
      "eigenvalue/variance for leading eigenvalue 0 = 0.151158071607009\n",
      "eigenvalue/variance for leading eigenvalue 1 = 0.10300032716856548\n",
      "eigenvalue/variance for leading eigenvalue 2 = 0.09375130117933785\n",
      "eigenvalue/variance for leading eigenvalue 3 = 0.08374712310181281\n",
      "eigenvalue/variance for leading eigenvalue 4 = 0.08169285324512007\n"
     ]
    }
   ],
   "source": [
    "# your code here\n",
    "\n",
    "pca = PCA().fit(train)\n",
    "plt.plot(np.cumsum(pca.explained_variance_ratio_))\n",
    "plt.xlabel('number of components')\n",
    "plt.ylabel('cumulative explained variance')\n",
    "plt.show()\n",
    "print(f'Explanied variance array: {np.cumsum(pca.explained_variance_ratio_)}')\n",
    "print()\n",
    "# From the output array it can be seen that 5 components (0th component counted as 1st) are needed to explain >= 50% of the variance\n",
    "\n",
    "eigenval = pca.explained_variance_\n",
    "print(f'Eigenvalues array: {eigenval}')\n",
    "print()\n",
    "\n",
    "var = np.sum(eigenval)\n",
    "frac = eigenval/var\n",
    "print(f'Eigenvalues over variance array: {frac}') # same as explained_variance_ratio as required.\n",
    "print()\n",
    "\n",
    "# first 5 componets are \n",
    "for i in range(5):\n",
    "    print(f'eigenvalue/variance for leading eigenvalue {i} = {frac[i]}')"
   ]
  },
  {
   "cell_type": "markdown",
   "id": "b8bf7089",
   "metadata": {},
   "source": [
    "## Problem 3 (40 points): AutoEncoders for Anomaly Detection\n",
    "\n",
    "We discussed the use of AutoEncoders for de-noising, let's also look at AutoEncoders in the context of anomaly detection.  The goal will be to use an AutoEncoder to find \"anomalies\" in a data sample without knowing what those anomalies are.  We'll do this by training the network on an un-labeled data sample (i.e. unsupervised learning) and then using the trained network to evaluate a test dataset that has anomalies included.  The anomalies should show up as events with large loss values.\n",
    "\n",
    "For this problem, we'll use the `ttbar` dataset from problem 2 for training, and the `testdata` dataset from problem 2 for testing."
   ]
  },
  {
   "cell_type": "markdown",
   "id": "d15df0cb",
   "metadata": {},
   "source": [
    "**Your job**: Define our AutoEncoder, following the scheme we used in the AutoEncoder notebook in class, with the following changes:\n",
    "\n",
    "* The number of input variables should be the number of variables needed to explain 50% of the variance in the `ttbar` sample (see solutions to Problem 2, let's call this number N_50).\n",
    "* Use the `LeakyReLU` activation function, with args = `(0.2,inplace-True)`\n",
    "* The encoder should have three layers:  (1) the input layer, with N nodes; (2) a hidden layer with 2\\*N nodes; (3) a hidden layer with 10 nodes; (4) the latent-space layer, with N_50 nodes.\n",
    "* Make sure to not define an activation on the last layer!\n",
    "\n"
   ]
  },
  {
   "cell_type": "code",
   "execution_count": 11,
   "id": "e8678af2",
   "metadata": {},
   "outputs": [],
   "source": [
    "# your code here\n",
    "\n",
    "class AutoEncoder(nn.Module):\n",
    "    def __init__(self,n):\n",
    "        super().__init__()\n",
    "        \n",
    "        self.encoder = torch.nn.Sequential(\n",
    "                torch.nn.Linear(n, 2*n),\n",
    "                torch.nn.LeakyReLU(0.2, inplace=True),\n",
    "                torch.nn.Linear(2*n, 10),\n",
    "                torch.nn.LeakyReLU(0.2, inplace=True),\n",
    "                torch.nn.Linear(10, 5),\n",
    "                torch.nn.LeakyReLU(0.2, inplace=True),\n",
    "                torch.nn.Linear(5, 5), # latent space layer\n",
    "                )\n",
    "            \n",
    "        self.decoder = nn.Linear(5, n)\n",
    "        self.data_rho=None\n",
    "\n",
    "    def forward(self, x):\n",
    "        x = self.encoder(x)\n",
    "        self.data_rho = x.mean(0)\n",
    "        x = self.decoder(x)\n",
    "        x = torch.sigmoid(x)\n",
    "        return x  "
   ]
  },
  {
   "cell_type": "markdown",
   "id": "a7b3e137",
   "metadata": {},
   "source": [
    "Now train the autoencoder on the training data.  Run for 1500 epochs, using the `Adam`optimizer with a learning rate of 0.01.  Afterwards:\n",
    "* Make a plot of the loss function vs epochs for the training data\n",
    "* Make a plot of the loss *values* for all events in the training dataset.  This means passing single events into the loss function, instead of entire tensors!\n",
    "* Now put the net into evaluation mode, and pass the test dataset through the network.  Make the same plot of loss values for all events in the test dataset.  \n",
    "* Make a single plot that includes both histograms: the training set, and the testing set.\n",
    "\n",
    "The difference between the training data and the test data can be subtle unless you overlay them, and (hopefully) see that there are more events in the large-loss tail of the test distribution than the training distribution!"
   ]
  },
  {
   "cell_type": "code",
   "execution_count": 12,
   "id": "e9659b05",
   "metadata": {},
   "outputs": [
    {
     "name": "stderr",
     "output_type": "stream",
     "text": [
      "  0%|▏                                                                                | 3/1500 [00:00<00:51, 28.85it/s]"
     ]
    },
    {
     "name": "stdout",
     "output_type": "stream",
     "text": [
      "AutoEncoder(\n",
      "  (encoder): Sequential(\n",
      "    (0): Linear(in_features=5, out_features=10, bias=True)\n",
      "    (1): LeakyReLU(negative_slope=0.2, inplace=True)\n",
      "    (2): Linear(in_features=10, out_features=10, bias=True)\n",
      "    (3): LeakyReLU(negative_slope=0.2, inplace=True)\n",
      "    (4): Linear(in_features=10, out_features=5, bias=True)\n",
      "    (5): LeakyReLU(negative_slope=0.2, inplace=True)\n",
      "    (6): Linear(in_features=5, out_features=5, bias=True)\n",
      "  )\n",
      "  (decoder): Linear(in_features=5, out_features=5, bias=True)\n",
      ")\n"
     ]
    },
    {
     "name": "stderr",
     "output_type": "stream",
     "text": [
      "100%|█████████████████████████████████████████████████████████████████████████████| 1500/1500 [00:09<00:00, 162.74it/s]\n"
     ]
    }
   ],
   "source": [
    "# training loop\n",
    "\n",
    "net = AutoEncoder(5)\n",
    "print(net)\n",
    "torch.save(net.state_dict(), 'net4Auto.pth') # saving the network\n",
    "net.load_state_dict(torch.load('net4Auto.pth'))\n",
    "\n",
    "pca = PCA(5)\n",
    "train = torch.tensor(pca.fit_transform(x_train),dtype=torch.float)\n",
    "\n",
    "test = torch.tensor(pca.fit_transform(x_test),dtype=torch.float)\n",
    "\n",
    "losses, losses_test = [], []\n",
    "\n",
    "loss_fn = torch.nn.MSELoss()\n",
    "optimizer = torch.optim.Adam(net.parameters(), lr=0.01)\n",
    "\n",
    "for epoch in tqdm(range(1500)):\n",
    "    pred = net(train)\n",
    "    optimizer.zero_grad()\n",
    "    loss = loss_fn(pred, train)\n",
    "    loss.backward()\n",
    "    optimizer.step()\n",
    "    losses.append(loss.data)\n",
    "    \n",
    "    net.eval() # configure the model for evaluation (testing)\n",
    "    pred_test = net(test)\n",
    "    test_loss=loss_fn(pred_test, test)\n",
    "    losses_test.append(test_loss.data)"
   ]
  },
  {
   "cell_type": "code",
   "execution_count": 13,
   "id": "bb1557ac",
   "metadata": {},
   "outputs": [
    {
     "data": {
      "image/png": "[encoded data removed]",
      "text/plain": [
       "<Figure size 432x288 with 1 Axes>"
      ]
     },
     "metadata": {
      "needs_background": "light"
     },
     "output_type": "display_data"
    }
   ],
   "source": [
    "# plot the losses vs epoch\n",
    "plt.plot(losses, '.', label=\"Train\")\n",
    "plt.plot(losses_test, '.', label=\"Test\")\n",
    "plt.legend()\n",
    "plt.xlabel('Training Epoch')\n",
    "plt.ylabel('MSE Loss')\n",
    "plt.yscale('log')"
   ]
  },
  {
   "cell_type": "markdown",
   "id": "18c7022a",
   "metadata": {},
   "source": [
    "A helper function to retrieve the individual event-wise losses from the sample (`getLosses`) "
   ]
  },
  {
   "cell_type": "code",
   "execution_count": 14,
   "id": "13341fa1",
   "metadata": {},
   "outputs": [],
   "source": [
    "net.eval()\n",
    "def getLosses(sample):\n",
    "    losses=[]\n",
    "    for i in range(len(sample)):\n",
    "        pred = net(sample[i])\n",
    "        loss = loss_fn(pred, sample[i])\n",
    "        losses.append(loss.data.item())\n",
    "    return losses"
   ]
  },
  {
   "cell_type": "code",
   "execution_count": 15,
   "id": "e87061e8",
   "metadata": {},
   "outputs": [
    {
     "name": "stdout",
     "output_type": "stream",
     "text": [
      "0.001536378636956215\n",
      "78.28277587890625\n"
     ]
    },
    {
     "data": {
      "text/plain": [
       "Text(0, 0.5, 'Entries/Bin')"
      ]
     },
     "execution_count": 15,
     "metadata": {},
     "output_type": "execute_result"
    },
    {
     "data": {
      "image/png": "[encoded data removed]",
      "text/plain": [
       "<Figure size 432x288 with 1 Axes>"
      ]
     },
     "metadata": {
      "needs_background": "light"
     },
     "output_type": "display_data"
    }
   ],
   "source": [
    "# get the training dataset losses and plot them\n",
    "train_loss = getLosses(train)\n",
    "\n",
    "print(np.min(train_loss))\n",
    "print(np.max(train_loss))\n",
    "plt.hist(train_loss,bins=50,range=(0, 20), label=\"Training losses\", density=True)\n",
    "plt.xlabel(\"Loss\");\n",
    "plt.ylabel(\"Entries/Bin\")"
   ]
  },
  {
   "cell_type": "code",
   "execution_count": 16,
   "id": "3fd09162",
   "metadata": {},
   "outputs": [
    {
     "name": "stdout",
     "output_type": "stream",
     "text": [
      "0.0016640424728393555\n",
      "163.2175750732422\n"
     ]
    },
    {
     "data": {
      "text/plain": [
       "Text(0, 0.5, 'Entries/Bin')"
      ]
     },
     "execution_count": 16,
     "metadata": {},
     "output_type": "execute_result"
    },
    {
     "data": {
      "image/png": "[encoded data removed]",
      "text/plain": [
       "<Figure size 432x288 with 1 Axes>"
      ]
     },
     "metadata": {
      "needs_background": "light"
     },
     "output_type": "display_data"
    }
   ],
   "source": [
    "# get the test dataset losses and plot them\n",
    "\n",
    "test_loss = getLosses(test)\n",
    "\n",
    "print(np.min(test_loss))\n",
    "print(np.max(test_loss))\n",
    "plt.hist(test_loss,bins=50,range=(0, 20), label=\"Training losses\", density=True)\n",
    "plt.xlabel(\"Loss\");\n",
    "plt.ylabel(\"Entries/Bin\")"
   ]
  },
  {
   "cell_type": "code",
   "execution_count": 20,
   "id": "8f218dc8",
   "metadata": {
    "tags": []
   },
   "outputs": [
    {
     "data": {
      "text/plain": [
       "<matplotlib.legend.Legend at 0x22e3fd127c0>"
      ]
     },
     "execution_count": 20,
     "metadata": {},
     "output_type": "execute_result"
    },
    {
     "data": {
      "image/png": "[encoded data removed]",
      "text/plain": [
       "<Figure size 432x288 with 1 Axes>"
      ]
     },
     "metadata": {
      "needs_background": "light"
     },
     "output_type": "display_data"
    }
   ],
   "source": [
    "# make a single plot overlaying the training and test dataset losses, \n",
    "# with each normalized so they both have unit area.\n",
    "\n",
    "plt.hist(train_loss,bins=50,range=(0, 20), label=\"Training losses\", density=True)\n",
    "plt.xlabel(\"Loss\");\n",
    "plt.ylabel(\"Entries/Bin\")\n",
    "\n",
    "plt.hist(test_loss,bins=50,range=(0, 20), alpha=0.5, label=\"Test losses\", density=True)\n",
    "plt.xlabel(\"Loss\");\n",
    "plt.ylabel(\"Entries/Bin\")\n",
    "\n",
    "plt.legend()"
   ]
  }
 ],
 "metadata": {
  "kernelspec": {
   "display_name": "Python 3",
   "language": "python",
   "name": "python3"
  },
  "language_info": {
   "codemirror_mode": {
    "name": "ipython",
    "version": 3
   },
   "file_extension": ".py",
   "mimetype": "text/x-python",
   "name": "python",
   "nbconvert_exporter": "python",
   "pygments_lexer": "ipython3",
   "version": "3.8.8"
  }
 },
 "nbformat": 4,
 "nbformat_minor": 5
}
