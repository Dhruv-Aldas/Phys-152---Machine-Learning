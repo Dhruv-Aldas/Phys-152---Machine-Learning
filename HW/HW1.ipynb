{
 "cells": [
  {
   "cell_type": "markdown",
   "metadata": {
    "id": "qyzlOAYz0abj"
   },
   "source": [
    "# Homework 1"
   ]
  },
  {
   "cell_type": "markdown",
   "metadata": {
    "id": "-lLt3FGv0flg"
   },
   "source": [
    "We'll use the first assignment to make sure everyone is comfortable with some basic python.  We'll be doing all of our HW assignments in Jupyter notebooks, and submitting assigments by committing notebooks to your own gitlab repository (that you've shared with me).  "
   ]
  },
  {
   "cell_type": "markdown",
   "metadata": {
    "id": "e-r3fsIX04yh"
   },
   "source": [
    "The first part of a notebook should always be the libraries we'll use in the rest of the notebook.  We include them at the top so we know what packages we may need to download and/or install."
   ]
  },
  {
   "cell_type": "code",
   "execution_count": 1,
   "metadata": {
    "id": "SwhoQCFTzC6w",
    "tags": []
   },
   "outputs": [],
   "source": [
    "%matplotlib inline\n",
    "import matplotlib.pyplot as plt\n",
    "import numpy as np\n",
    "import matplotlib as mpl\n",
    "import math"
   ]
  },
  {
   "cell_type": "markdown",
   "metadata": {
    "id": "rrGmoc891CtF"
   },
   "source": [
    "If we're working in Google Colab, we'll also want to give Colab access to our Google Drive space, so that we can get other python code, data files, and other things that may be needed as part of the assignment.  Executing the cell below should open a browser window that prompts you to connect the notebook to Google Drive."
   ]
  },
  {
   "cell_type": "code",
   "execution_count": 2,
   "metadata": {
    "colab": {
     "base_uri": "https://localhost:8080/"
    },
    "id": "rsxrVKD31PvC",
    "outputId": "127df8e8-489a-4ccc-aceb-91a483b1928f",
    "tags": []
   },
   "outputs": [],
   "source": [
    "try:\n",
    "  import google.colab\n",
    "  IN_COLAB = True\n",
    "except:\n",
    "  IN_COLAB = False\n",
    "\n",
    "if IN_COLAB:\n",
    "  from google.colab import drive\n",
    "  drive.mount('/content/gdrive')"
   ]
  },
  {
   "cell_type": "markdown",
   "metadata": {
    "id": "7NwF0GKe1q0Q"
   },
   "source": [
    "We should see \"Mounted at /content/gdrive\" above if everything worked.  Now try to create a file, put something into it, check that it worked, then remove the file:"
   ]
  },
  {
   "cell_type": "code",
   "execution_count": 3,
   "metadata": {
    "colab": {
     "base_uri": "https://localhost:8080/"
    },
    "id": "tPBncQh-16x8",
    "outputId": "3692d32a-e0f6-4339-e6b3-0e7dedc94554",
    "tags": []
   },
   "outputs": [],
   "source": [
    "if IN_COLAB:\n",
    "    !echo \"PHYS 152 is the best!\" > myHW1test.txt    # Create a new file that contains some text\n",
    "    !ls .                                            # Check that the file was created\n",
    "    !cat myHW1test.txt                               # Look at the contents of the file\n",
    "    !rm myHW1test.txt                                # Remove the file\n",
    "    !ls .                                            # Check that the file was removed"
   ]
  },
  {
   "cell_type": "markdown",
   "metadata": {
    "id": "pdp0bMb4Ok3e"
   },
   "source": [
    "# Some Basics"
   ]
  },
  {
   "cell_type": "markdown",
   "metadata": {
    "id": "HJDhYejEzTq1"
   },
   "source": [
    "First let's go through some basics of python, numpy, and plotting.  I assume a basic familiarity with python, so we'll start right up with numerical methods.\n"
   ]
  },
  {
   "cell_type": "code",
   "execution_count": 4,
   "metadata": {
    "id": "4OSB15pjzePo",
    "tags": []
   },
   "outputs": [],
   "source": [
    "def create_python_array(n=100):\n",
    "    y = []\n",
    "    for x in range(n):\n",
    "        y.append(math.sin(math.pi * x / n))\n",
    "    return y"
   ]
  },
  {
   "cell_type": "code",
   "execution_count": 5,
   "metadata": {
    "colab": {
     "base_uri": "https://localhost:8080/"
    },
    "id": "_cd_OsUb3tby",
    "outputId": "4f05541b-59a2-433b-d8ea-a604385875b8",
    "tags": []
   },
   "outputs": [
    {
     "name": "stdout",
     "output_type": "stream",
     "text": [
      "Wall time: 896 ms\n"
     ]
    }
   ],
   "source": [
    "%time y1=create_python_array(int(1e6))"
   ]
  },
  {
   "cell_type": "markdown",
   "metadata": {
    "id": "E6XwRGCK4Y4v"
   },
   "source": [
    "This gives us a list of values, which can be manipulated in all sorts of crazy ways:"
   ]
  },
  {
   "cell_type": "code",
   "execution_count": 6,
   "metadata": {
    "id": "KDmtux9e30rQ",
    "tags": []
   },
   "outputs": [],
   "source": [
    "y1[2]=\"This is not a number\"\n",
    "y1.append(-1)"
   ]
  },
  {
   "cell_type": "markdown",
   "metadata": {
    "id": "FtM18ZiP47Uf"
   },
   "source": [
    "Now let's do something similar with numpy arrays:"
   ]
  },
  {
   "cell_type": "code",
   "execution_count": 7,
   "metadata": {
    "id": "ctkKKGde4RPP",
    "tags": []
   },
   "outputs": [],
   "source": [
    "def create_numpy_array(n=100):\n",
    "    x = np.arange(n)\n",
    "    y = np.sin(np.pi * x / n)\n",
    "    return x,y"
   ]
  },
  {
   "cell_type": "code",
   "execution_count": 8,
   "metadata": {
    "colab": {
     "base_uri": "https://localhost:8080/"
    },
    "id": "to_X-vLr55M2",
    "outputId": "593880ad-70ff-4ed8-ed7d-4429d8c61514",
    "tags": []
   },
   "outputs": [
    {
     "name": "stdout",
     "output_type": "stream",
     "text": [
      "Wall time: 42.8 ms\n"
     ]
    }
   ],
   "source": [
    "%time x,y2=create_numpy_array(int(1e6))"
   ]
  },
  {
   "cell_type": "markdown",
   "metadata": {
    "id": "R_5qF_th6HN-"
   },
   "source": [
    "This went much faster, and now this structure can only hold numbers.  Note the use of `np.arange(n)`, which made an array integers from `0` to `n-1`:"
   ]
  },
  {
   "cell_type": "code",
   "execution_count": 9,
   "metadata": {
    "colab": {
     "base_uri": "https://localhost:8080/"
    },
    "id": "XIukkmFf6Csp",
    "outputId": "dbb96d97-6051-4ff8-cde0-c2f2c9702bc9",
    "tags": []
   },
   "outputs": [
    {
     "data": {
      "text/plain": [
       "array([0, 1, 2, 3, 4, 5, 6, 7, 8, 9])"
      ]
     },
     "execution_count": 9,
     "metadata": {},
     "output_type": "execute_result"
    }
   ],
   "source": [
    "np.arange(10)"
   ]
  },
  {
   "cell_type": "markdown",
   "metadata": {
    "id": "R_X90AHU6kPc"
   },
   "source": [
    "We can use `np.linspace` to create an array of floats with some constant spacing.  Note it takes 11 steps to go from 0 to 1.0 (inclusive) in steps of 0.1!"
   ]
  },
  {
   "cell_type": "code",
   "execution_count": 10,
   "metadata": {
    "colab": {
     "base_uri": "https://localhost:8080/"
    },
    "id": "gAk_KzD76fPJ",
    "outputId": "e99e1441-809c-46fd-b259-f0b1f0715725",
    "tags": []
   },
   "outputs": [
    {
     "data": {
      "text/plain": [
       "array([0. , 0.1, 0.2, 0.3, 0.4, 0.5, 0.6, 0.7, 0.8, 0.9, 1. ])"
      ]
     },
     "execution_count": 10,
     "metadata": {},
     "output_type": "execute_result"
    }
   ],
   "source": [
    "np.linspace(0,1,11)"
   ]
  },
  {
   "cell_type": "markdown",
   "metadata": {
    "id": "yiXTG7D_7FE8"
   },
   "source": [
    "With this, now we can plot the results of our functions above:"
   ]
  },
  {
   "cell_type": "code",
   "execution_count": 11,
   "metadata": {
    "colab": {
     "base_uri": "https://localhost:8080/",
     "height": 295
    },
    "id": "HTzPOGfQ6vG9",
    "outputId": "95b155b8-83ea-45d0-97ef-1f7c4d41f3de",
    "tags": []
   },
   "outputs": [
    {
     "data": {
      "text/plain": [
       "[<matplotlib.lines.Line2D at 0x21ab163f3a0>]"
      ]
     },
     "execution_count": 11,
     "metadata": {},
     "output_type": "execute_result"
    },
    {
     "data": {
      "image/png": "[encoded data removed]",
      "text/plain": [
       "<Figure size 640x480 with 1 Axes>"
      ]
     },
     "metadata": {},
     "output_type": "display_data"
    }
   ],
   "source": [
    "plt.plot(x,y2)"
   ]
  },
  {
   "cell_type": "markdown",
   "metadata": {
    "id": "1ltHZuoZ8KO3"
   },
   "source": [
    "This is a start, but let's make this a proper plot, with some axis labels and so on."
   ]
  },
  {
   "cell_type": "code",
   "execution_count": 12,
   "metadata": {
    "colab": {
     "base_uri": "https://localhost:8080/",
     "height": 279
    },
    "id": "QpFtDoRG74zi",
    "outputId": "77f41413-45af-4c8f-eeb5-d5109d001bda",
    "tags": []
   },
   "outputs": [
    {
     "data": {
      "image/png": "[encoded data removed]",
      "text/plain": [
       "<Figure size 640x480 with 1 Axes>"
      ]
     },
     "metadata": {},
     "output_type": "display_data"
    }
   ],
   "source": [
    "plt.plot(x,y2)\n",
    "plt.ylabel(\"$\\sin(\\pi*x/n)$\")\n",
    "plt.xlabel(\"x\")\n",
    "plt.show()"
   ]
  },
  {
   "cell_type": "markdown",
   "metadata": {
    "id": "e8kL1md0ABk_"
   },
   "source": [
    "An even simpler way would be to plot the function directly, and in this example we'll use `np.linspace` and not divide by `n`:"
   ]
  },
  {
   "cell_type": "code",
   "execution_count": 13,
   "metadata": {
    "colab": {
     "base_uri": "https://localhost:8080/",
     "height": 279
    },
    "id": "_ZGLVdXE_syv",
    "outputId": "008bede7-c0ad-49dc-d457-1847a3e7a2b7",
    "tags": []
   },
   "outputs": [
    {
     "data": {
      "image/png": "[encoded data removed]",
      "text/plain": [
       "<Figure size 640x480 with 1 Axes>"
      ]
     },
     "metadata": {},
     "output_type": "display_data"
    }
   ],
   "source": [
    "def create_numpy_array_2(xvalues):\n",
    "  y=np.sin(math.pi*xvalues)\n",
    "  return y\n",
    "\n",
    "x3=np.linspace(0,1,int(1e6))\n",
    "plt.plot(x3,create_numpy_array_2(x3))\n",
    "plt.ylabel(\"$\\sin(\\pi*x)$\")\n",
    "plt.xlabel(\"x\")\n",
    "plt.show()"
   ]
  },
  {
   "cell_type": "markdown",
   "metadata": {
    "id": "S-FcNAenBqq6"
   },
   "source": [
    "Let's overlay two plots, say `sin` and `cos` to see what they both look like:"
   ]
  },
  {
   "cell_type": "code",
   "execution_count": 14,
   "metadata": {
    "colab": {
     "base_uri": "https://localhost:8080/",
     "height": 279
    },
    "id": "XmSoowbw_OdZ",
    "outputId": "a9ca924d-002f-4439-8efc-f79cd63b7dc7",
    "tags": []
   },
   "outputs": [
    {
     "data": {
      "image/png": "[encoded data removed]",
      "text/plain": [
       "<Figure size 640x480 with 1 Axes>"
      ]
     },
     "metadata": {},
     "output_type": "display_data"
    }
   ],
   "source": [
    "plt.plot(x3,np.sin(math.pi*x3),label=\"$\\sin(\\pi*x)$\")\n",
    "plt.plot(x3,np.cos(math.pi*x3),label=\"$\\cos(\\pi*x)$\")\n",
    "plt.ylabel(\"y\")\n",
    "plt.xlabel(\"x\")\n",
    "plt.legend(fontsize='x-large')\n",
    "plt.show()"
   ]
  },
  {
   "cell_type": "markdown",
   "metadata": {
    "id": "9Flwbg9jHhui"
   },
   "source": [
    "We can also make histograms, showing the frequency of certain elements in a data sample:"
   ]
  },
  {
   "cell_type": "code",
   "execution_count": 15,
   "metadata": {
    "colab": {
     "base_uri": "https://localhost:8080/",
     "height": 299
    },
    "id": "nNeqtFyBHnSb",
    "outputId": "7d5f2af3-8222-44d8-fee4-d96766e2a254",
    "tags": []
   },
   "outputs": [
    {
     "data": {
      "text/plain": [
       "Text(0, 0.5, 'Entries/Bin')"
      ]
     },
     "execution_count": 15,
     "metadata": {},
     "output_type": "execute_result"
    },
    {
     "data": {
      "image/png": "[encoded data removed]",
      "text/plain": [
       "<Figure size 640x480 with 1 Axes>"
      ]
     },
     "metadata": {},
     "output_type": "display_data"
    }
   ],
   "source": [
    "counts,bins,_=plt.hist(y2,bins=10,range=(0,1))\n",
    "plt.xlabel(\"y\")\n",
    "plt.ylabel(\"Entries/Bin\")"
   ]
  },
  {
   "cell_type": "markdown",
   "metadata": {
    "id": "Wu-HasdPOu98"
   },
   "source": [
    "where now we have access to the contents of the histogram:"
   ]
  },
  {
   "cell_type": "code",
   "execution_count": 16,
   "metadata": {
    "colab": {
     "base_uri": "https://localhost:8080/"
    },
    "id": "lMark_O_Ox6N",
    "outputId": "217c9356-c9ba-4dab-c009-a989a69b5d46",
    "tags": []
   },
   "outputs": [
    {
     "name": "stdout",
     "output_type": "stream",
     "text": [
      "[ 63769.  64420.  65784.  68006.  71354.  76332.  83968.  96702. 122532.\n",
      " 287133.]\n",
      "[0.  0.1 0.2 0.3 0.4 0.5 0.6 0.7 0.8 0.9 1. ]\n"
     ]
    }
   ],
   "source": [
    "print(counts) # the \"Entries/Bin\" above\n",
    "print(bins)   # the edges of the bins"
   ]
  },
  {
   "cell_type": "markdown",
   "metadata": {},
   "source": [
    "For our purposes, it is often useful to be able to normalize the distribution to unit area, by using the `density` option:"
   ]
  },
  {
   "cell_type": "code",
   "execution_count": 17,
   "metadata": {
    "tags": []
   },
   "outputs": [
    {
     "name": "stdout",
     "output_type": "stream",
     "text": [
      "[0.63769 0.6442  0.65784 0.68006 0.71354 0.76332 0.83968 0.96702 1.22532\n",
      " 2.87133]\n",
      "[0.  0.1 0.2 0.3 0.4 0.5 0.6 0.7 0.8 0.9 1. ]\n"
     ]
    },
    {
     "data": {
      "image/png": "[encoded data removed]",
      "text/plain": [
       "<Figure size 640x480 with 1 Axes>"
      ]
     },
     "metadata": {},
     "output_type": "display_data"
    }
   ],
   "source": [
    "counts,bins,_=plt.hist(y2,bins=10,range=(0,1),density=True)\n",
    "plt.xlabel(\"y\")\n",
    "plt.ylabel(\"1/N dN/dy\")\n",
    "print(counts) # the \"Entries/Bin\" above\n",
    "print(bins)   # the edges of the bins"
   ]
  },
  {
   "cell_type": "markdown",
   "metadata": {
    "id": "zzKyV_bsNnwy"
   },
   "source": [
    "# Problem 1 (30 points)\n",
    "\n",
    "\n",
    "Make a plot showing the different activtation functions we discussed in class, in the range from -3 to 3:\n",
    "\n",
    "*   Sigmoid\n",
    "*   tanh\n",
    "*   ReLU\n",
    "\n"
   ]
  },
  {
   "cell_type": "code",
   "execution_count": 18,
   "metadata": {
    "colab": {
     "base_uri": "https://localhost:8080/",
     "height": 279
    },
    "id": "A6fPCUuOCTi6",
    "outputId": "d406c643-3c2e-419e-8674-bde55693e714",
    "tags": []
   },
   "outputs": [
    {
     "data": {
      "image/png": "[encoded data removed]",
      "text/plain": [
       "<Figure size 640x480 with 1 Axes>"
      ]
     },
     "metadata": {},
     "output_type": "display_data"
    },
    {
     "data": {
      "image/png": "[encoded data removed]",
      "text/plain": [
       "<Figure size 640x480 with 1 Axes>"
      ]
     },
     "metadata": {},
     "output_type": "display_data"
    },
    {
     "data": {
      "image/png": "[encoded data removed]",
      "text/plain": [
       "<Figure size 640x480 with 1 Axes>"
      ]
     },
     "metadata": {},
     "output_type": "display_data"
    }
   ],
   "source": [
    "# your code here\n",
    "\n",
    "# the sigmoid function is given by f(x) = 1/[1 + e^(-x)]\n",
    "\n",
    "def sigmoid(xrange):\n",
    "    return 1/(1 + np.exp(-xrange))\n",
    "\n",
    "# the tanh function can we written as f(x) = (e^x - e^-x)/(e^x + e^-x)\n",
    "\n",
    "def tanh(xrange):\n",
    "    return ( np.exp(xrange) - np.exp(-xrange) )/( np.exp(xrange) + np.exp(-xrange) )\n",
    "\n",
    "# ReLU is 0 for x < 0 and = x for x > 0\n",
    "def ReLU(xrange):\n",
    "    temp = np.zeros([len(xrange)])\n",
    "    for i in range(len(xrange)):\n",
    "        temp[i] = max(0, xrange[i])\n",
    "    return temp\n",
    "\n",
    "xvals = np.linspace(-3, 3, int(1e6))\n",
    "\n",
    "#plot of sigmoid\n",
    "plt.subplot(111)\n",
    "plt.title('Sigmoid activation function')\n",
    "plt.xlabel('x')\n",
    "plt.ylabel('y')\n",
    "plt.plot(xvals, sigmoid(xvals))\n",
    "plt.show()\n",
    "\n",
    "#plot of tanh\n",
    "plt.subplot(111)\n",
    "plt.title('Tanh activation function')\n",
    "plt.xlabel('x')\n",
    "plt.ylabel('y')\n",
    "plt.plot(xvals, tanh(xvals))\n",
    "plt.show()\n",
    "\n",
    "#plot of ReLU\n",
    "plt.subplot(111)\n",
    "plt.title('ReLU activation function')\n",
    "plt.xlabel('x')\n",
    "plt.ylabel('y')\n",
    "plt.plot(xvals, ReLU(xvals))\n",
    "plt.show()"
   ]
  },
  {
   "cell_type": "markdown",
   "metadata": {
    "id": "2MvtHx4kOrQp"
   },
   "source": [
    "# Vectors, Matrices, and Tensors in Python"
   ]
  },
  {
   "cell_type": "markdown",
   "metadata": {
    "id": "szuXfqpAO5jR"
   },
   "source": [
    "We can create more than just lists of numbers:"
   ]
  },
  {
   "cell_type": "code",
   "execution_count": 19,
   "metadata": {
    "id": "Of-wf5YEO4ua"
   },
   "outputs": [],
   "source": [
    "vector = np.ones(shape=(4,))\n",
    "matrix = np.ones(shape=(3, 4))\n",
    "tensor = np.ones(shape=(2, 3, 4))"
   ]
  },
  {
   "cell_type": "code",
   "execution_count": 20,
   "metadata": {
    "colab": {
     "base_uri": "https://localhost:8080/"
    },
    "id": "rNtzHjA1Poe7",
    "outputId": "045d6dd1-71ef-4234-9653-9adbd7172a92"
   },
   "outputs": [
    {
     "name": "stdout",
     "output_type": "stream",
     "text": [
      "[1. 1. 1. 1.]\n"
     ]
    }
   ],
   "source": [
    "print(vector)"
   ]
  },
  {
   "cell_type": "code",
   "execution_count": 21,
   "metadata": {
    "colab": {
     "base_uri": "https://localhost:8080/"
    },
    "id": "HPHs-RaAPMXN",
    "outputId": "b421545d-d341-4f1b-c90c-8a1481207ac0"
   },
   "outputs": [
    {
     "name": "stdout",
     "output_type": "stream",
     "text": [
      "[[1. 1. 1. 1.]\n",
      " [1. 1. 1. 1.]\n",
      " [1. 1. 1. 1.]]\n"
     ]
    }
   ],
   "source": [
    "print(matrix)"
   ]
  },
  {
   "cell_type": "code",
   "execution_count": 22,
   "metadata": {
    "colab": {
     "base_uri": "https://localhost:8080/"
    },
    "id": "Df1pqVNGPhXu",
    "outputId": "5ee188d6-1c7b-44a6-9d47-65dd2135cc11"
   },
   "outputs": [
    {
     "name": "stdout",
     "output_type": "stream",
     "text": [
      "[[[1. 1. 1. 1.]\n",
      "  [1. 1. 1. 1.]\n",
      "  [1. 1. 1. 1.]]\n",
      "\n",
      " [[1. 1. 1. 1.]\n",
      "  [1. 1. 1. 1.]\n",
      "  [1. 1. 1. 1.]]]\n"
     ]
    }
   ],
   "source": [
    "print(tensor)"
   ]
  },
  {
   "cell_type": "markdown",
   "metadata": {
    "id": "0d_AdW6yPrIc"
   },
   "source": [
    "We can access different elements of these objects using indices:"
   ]
  },
  {
   "cell_type": "code",
   "execution_count": 23,
   "metadata": {
    "colab": {
     "base_uri": "https://localhost:8080/"
    },
    "id": "mBk_d7jFPiex",
    "outputId": "27cebe53-9579-4506-c3d4-ea6d192c0d4a"
   },
   "outputs": [
    {
     "name": "stdout",
     "output_type": "stream",
     "text": [
      "[1. 9. 1. 1.]\n"
     ]
    }
   ],
   "source": [
    "vector[1]=9\n",
    "print(vector)"
   ]
  },
  {
   "cell_type": "code",
   "execution_count": 24,
   "metadata": {
    "colab": {
     "base_uri": "https://localhost:8080/"
    },
    "id": "vsgwgAjgPzbL",
    "outputId": "5e738b6b-8b8e-4ef2-f246-24b0df832ad8"
   },
   "outputs": [
    {
     "name": "stdout",
     "output_type": "stream",
     "text": [
      "[[1. 1. 1. 1.]\n",
      " [2. 2. 2. 2.]\n",
      " [1. 1. 1. 1.]]\n"
     ]
    }
   ],
   "source": [
    "matrix[1,:]=2 # single row\n",
    "print(matrix)"
   ]
  },
  {
   "cell_type": "code",
   "execution_count": 25,
   "metadata": {
    "colab": {
     "base_uri": "https://localhost:8080/"
    },
    "id": "DM12I0UaP65q",
    "outputId": "5a1ba17e-d4bd-496f-d3a9-5ae8f766e182"
   },
   "outputs": [
    {
     "name": "stdout",
     "output_type": "stream",
     "text": [
      "[[1. 1. 1. 4.]\n",
      " [2. 2. 2. 4.]\n",
      " [1. 1. 1. 4.]]\n"
     ]
    }
   ],
   "source": [
    "matrix[:,3]=4 # single column\n",
    "print(matrix)"
   ]
  },
  {
   "cell_type": "code",
   "execution_count": 26,
   "metadata": {
    "colab": {
     "base_uri": "https://localhost:8080/"
    },
    "id": "RqXRA7OVAagY",
    "outputId": "75e9e46a-35ea-4008-a31c-366497c89304"
   },
   "outputs": [
    {
     "data": {
      "text/plain": [
       "array([[1., 2., 1.],\n",
       "       [1., 2., 1.],\n",
       "       [1., 2., 1.],\n",
       "       [4., 4., 4.]])"
      ]
     },
     "execution_count": 26,
     "metadata": {},
     "output_type": "execute_result"
    }
   ],
   "source": [
    "matrix.T # transpose"
   ]
  },
  {
   "cell_type": "code",
   "execution_count": 27,
   "metadata": {
    "colab": {
     "base_uri": "https://localhost:8080/"
    },
    "id": "Qmg4ngo0QB25",
    "outputId": "1ad87e7a-8a93-479c-c3a5-e6beba5ab771"
   },
   "outputs": [
    {
     "name": "stdout",
     "output_type": "stream",
     "text": [
      "[[[5. 5. 5. 1.]\n",
      "  [5. 5. 5. 1.]\n",
      "  [1. 1. 1. 1.]]\n",
      "\n",
      " [[1. 1. 1. 1.]\n",
      "  [1. 1. 1. 1.]\n",
      "  [1. 1. 1. 1.]]]\n"
     ]
    }
   ],
   "source": [
    "tensor[0,:2,:3]=5 # subsets of a matrix, up to (but not including) row 2 and up to (but not including) column 3 in matrix 0\n",
    "print(tensor)"
   ]
  },
  {
   "cell_type": "markdown",
   "metadata": {
    "id": "VWD05bYfQjVc"
   },
   "source": [
    "We can use dot products too:"
   ]
  },
  {
   "cell_type": "code",
   "execution_count": 28,
   "metadata": {
    "colab": {
     "base_uri": "https://localhost:8080/"
    },
    "id": "Y9oX2vruQinz",
    "outputId": "cd498998-a021-4e5f-b4d3-49075016b321"
   },
   "outputs": [
    {
     "name": "stdout",
     "output_type": "stream",
     "text": [
      "84.0\n"
     ]
    }
   ],
   "source": [
    "magnitude=vector.dot(vector)\n",
    "print(magnitude)"
   ]
  },
  {
   "cell_type": "code",
   "execution_count": 29,
   "metadata": {
    "colab": {
     "base_uri": "https://localhost:8080/"
    },
    "id": "pDKxr_25QMUb",
    "outputId": "8e62cb11-1bc3-4dc8-c05a-461363263356"
   },
   "outputs": [
    {
     "name": "stdout",
     "output_type": "stream",
     "text": [
      "[15. 26. 15.]\n"
     ]
    }
   ],
   "source": [
    "rotatedvector=matrix.dot(vector)\n",
    "print(rotatedvector)"
   ]
  },
  {
   "cell_type": "code",
   "execution_count": 30,
   "metadata": {
    "colab": {
     "base_uri": "https://localhost:8080/"
    },
    "id": "oP105H-PAmf5",
    "outputId": "254bc5fc-d2a4-486b-d199-0c5653d74c1e"
   },
   "outputs": [
    {
     "data": {
      "text/plain": [
       "array([[19., 22., 19.],\n",
       "       [22., 28., 22.],\n",
       "       [19., 22., 19.]])"
      ]
     },
     "execution_count": 30,
     "metadata": {},
     "output_type": "execute_result"
    }
   ],
   "source": [
    "matrix.dot(matrix.T)"
   ]
  },
  {
   "cell_type": "markdown",
   "metadata": {
    "id": "-xJj5gUmT7hN"
   },
   "source": [
    "We can use `np.einsum` to do something fancier, and evaluate expressions like $x^{ij}y_{jk}=z^{i}_{k}$, where repeated indices are summed over (called Einstein summation notation, seen often in General Relativity).  You can find some documenation on `numpy.einsum` [here](https://numpy.org/doc/stable/reference/generated/numpy.einsum.html)."
   ]
  },
  {
   "cell_type": "code",
   "execution_count": 31,
   "metadata": {
    "colab": {
     "base_uri": "https://localhost:8080/"
    },
    "id": "GkJtDwcIU5Jq",
    "outputId": "d182af9e-5978-4e8b-ef58-58763ce99721"
   },
   "outputs": [
    {
     "name": "stdout",
     "output_type": "stream",
     "text": [
      "[[ 0  1  2  3]\n",
      " [ 4  5  6  7]\n",
      " [ 8  9 10 11]\n",
      " [12 13 14 15]]\n",
      "[[16 17 18 19]\n",
      " [20 21 22 23]\n",
      " [24 25 26 27]\n",
      " [28 29 30 31]]\n",
      "[[ 152  158  164  170]\n",
      " [ 504  526  548  570]\n",
      " [ 856  894  932  970]\n",
      " [1208 1262 1316 1370]]\n"
     ]
    }
   ],
   "source": [
    "x=np.arange(16).reshape(4,4) # make a matrix out of consecutive numbers\n",
    "y=(np.arange(16)+16).reshape(4,4)\n",
    "print(x)\n",
    "print(y)\n",
    "print(np.einsum('ij,jk',x,y))"
   ]
  },
  {
   "cell_type": "markdown",
   "metadata": {
    "id": "6oozlCHvTJx4"
   },
   "source": [
    "# Problem 2 (30 points)\n",
    "\n",
    "Let's write a function that will evaluate the tensor expression $g^{il}\\Gamma_{ki}^{m}x^{k}$.  Use `np.einsum` to do the evaluation within the skeleton function below."
   ]
  },
  {
   "cell_type": "code",
   "execution_count": 32,
   "metadata": {
    "id": "kAKYUn6hQ2Iw",
    "tags": []
   },
   "outputs": [],
   "source": [
    "def tensor_expr(g, Gamma, x, D=4):\n",
    "    \"\"\"Evaluate the tensor expression above.\n",
    "    \n",
    "    Parameters\n",
    "    ----------\n",
    "    g : array\n",
    "        Numpy array of shape (D, D)\n",
    "    Gamma : array\n",
    "        Numpy array of shape (D, D, D)\n",
    "    x : array\n",
    "        Numpy array of shape (D,)\n",
    "    D : int\n",
    "        Dimension of input tensors.\n",
    "        \n",
    "    Returns\n",
    "    -------\n",
    "    array\n",
    "        Numpy array of shape (D, D) that evaluates the tensor expression.\n",
    "    \"\"\"\n",
    "    assert g.shape == (D, D)\n",
    "    assert Gamma.shape == (D, D, D)\n",
    "    assert x.shape == (D,)\n",
    "    \n",
    "    result = np.einsum('ij, mki, k', g, Gamma, x) #g has ij indicies, Gamma has mki, indicies, and x has k index (repeated indices sum => result has idicies lm (2x2 matrix)\n",
    "    print(result)\n",
    "    print(result.shape)\n",
    "    return result"
   ]
  },
  {
   "cell_type": "code",
   "execution_count": 33,
   "metadata": {
    "id": "uFpyrrOXTuni",
    "tags": []
   },
   "outputs": [
    {
     "name": "stdout",
     "output_type": "stream",
     "text": [
      "[[ 1680  3984  6288  8592]\n",
      " [ 1940  4628  7316 10004]\n",
      " [ 2200  5272  8344 11416]\n",
      " [ 2460  5916  9372 12828]]\n",
      "(4, 4)\n"
     ]
    }
   ],
   "source": [
    "# A correct solution should pass the following tests:\n",
    "g = np.arange(4 ** 2).reshape(4, 4)\n",
    "Gamma = np.arange(4 ** 3).reshape(4, 4, 4)\n",
    "x = np.arange(4)\n",
    "y = tensor_expr(g, Gamma, x)\n",
    "assert np.array_equal(\n",
    "    y,\n",
    "    [[ 1680,  3984,  6288,  8592], [ 1940,  4628,  7316, 10004],\n",
    "     [ 2200,  5272,  8344, 11416], [ 2460,  5916,  9372, 12828]])\n",
    "\n"
   ]
  },
  {
   "cell_type": "markdown",
   "metadata": {
    "id": "0Q0czTzwTtoN"
   },
   "source": [
    "# Loss functions"
   ]
  },
  {
   "cell_type": "markdown",
   "metadata": {
    "id": "gOIsIqDRdYxY"
   },
   "source": [
    "We calculated the objective function (also called the loss or loss function, the error, and other names) as:\n",
    "\n",
    "$$\\mathcal{L} = -\\frac{1}{m}\\sum_{j=1}^{m} \\left[\\sum_{i=1}^{k} p_{i}\\ln q_{i}\\right]_{j}$$\n",
    "\n",
    "where $j$ is iterating over events, and $i$ is iterating over categories.  But we can more generally write this as:\n",
    "\n",
    "$$\\mathcal{L} = \\frac{1}{m}\\sum_{j=1}^{m} \\left[H(p,q)\\right]_{j}$$\n",
    "\n",
    "where $H(p,q)$ is any appropriate objective function.  Depending on the nature of $H$, the objective function $\\mathcal{L}$ for a given set of events may be easier/harder to calculate.  "
   ]
  },
  {
   "cell_type": "markdown",
   "metadata": {
    "id": "4qjcwZnHNUeY"
   },
   "source": [
    "For example, let's consider the case where $H(p,q)$ is just defined by the mean-square-error:\n",
    "\n",
    "$$ \\mathcal{L}=\\frac{1}{m}\\sum_{j=1}^{m} \\left[ \\left(f(x_j)-y(x_j)\\right)^2 \\right]_{j}$$\n",
    "\n",
    "where $f(x_j)$ represents the output of the algorithm and $y(x_j)$ represents the true classification label for event with features $x_j$.  "
   ]
  },
  {
   "cell_type": "markdown",
   "metadata": {
    "id": "D-ud1Pj7NWSn"
   },
   "source": [
    "If we're not interested in classification, but instead we want to predict a value on a continuum, then that's a problem for *regression*.  In that case, we adjust our interpretation of the elements in the formula above: `m` is the number of data points in a distribution that we're comparing to, rather than the number of events that make up the distribution.  "
   ]
  },
  {
   "cell_type": "markdown",
   "metadata": {
    "id": "TmbyDUC2F4zq"
   },
   "source": [
    "# Problem 3 (40 points)"
   ]
  },
  {
   "cell_type": "markdown",
   "metadata": {
    "id": "aMjeCAtAF7Lv"
   },
   "source": [
    "Let's get some practice computing $\\mathcal{L}$ numerically.  We'll create a dataset and fit it using several functional forms, testing the objective function as we go to see which one performs best."
   ]
  },
  {
   "cell_type": "code",
   "execution_count": 34,
   "metadata": {
    "id": "xA5bgNjyF2HV",
    "tags": []
   },
   "outputs": [],
   "source": [
    "N=1000 # number of events to generate\n",
    "generator = np.random.RandomState(seed=123)\n",
    "dataset=generator.normal(loc=2,scale=3,size=N)"
   ]
  },
  {
   "cell_type": "markdown",
   "metadata": {
    "id": "vqN9wcxJHLMO"
   },
   "source": [
    "Plot the normal distribution above, saving the bin entries as `counts` and the bin edges as `bins`.  It's best to normalize this distribution to unit area, otherwise the results below may become unstable."
   ]
  },
  {
   "cell_type": "code",
   "execution_count": 35,
   "metadata": {
    "colab": {
     "base_uri": "https://localhost:8080/",
     "height": 296
    },
    "id": "AXCQXzaHHSYP",
    "outputId": "944074e7-2888-4178-c523-d2f73cae9e0b",
    "tags": []
   },
   "outputs": [
    {
     "data": {
      "text/plain": [
       "Text(0, 0.5, 'Frequency')"
      ]
     },
     "execution_count": 35,
     "metadata": {},
     "output_type": "execute_result"
    },
    {
     "data": {
      "image/png": "[encoded data removed]",
      "text/plain": [
       "<Figure size 640x480 with 1 Axes>"
      ]
     },
     "metadata": {},
     "output_type": "display_data"
    }
   ],
   "source": [
    "m=20 # number of bins in the histogram\n",
    "histrange=(-10,10) # range of the histogram\n",
    "\n",
    "# your code here\n",
    "\n",
    "counts, bins, patches = plt.hist(dataset, range=histrange, bins=m, density=True)\n",
    "plt.xlabel(\"Dataset\")\n",
    "plt.ylabel(\"Frequency\")"
   ]
  },
  {
   "cell_type": "markdown",
   "metadata": {
    "id": "AusXdxrJIc-P"
   },
   "source": [
    "Now compute the objective function (using the mean-square-error formula above) assuming: \n",
    "\n",
    "$$f(x)=\\frac{N}{\\sqrt{2\\pi}\\sigma}e^{-\\frac{1}{2\\sigma^2}(x-\\mu)^2}$$\n",
    "\n",
    "guessing that the mean is $\\mu=2.5$ and the width is $\\sigma=2.5$.  Remember, in this case we're going to iterate over the histogram bins, not the individual events!  Finally, keep in mind that the bin contents should really be considered to be at the bin *centers*, not the bin *edges*."
   ]
  },
  {
   "cell_type": "code",
   "execution_count": 36,
   "metadata": {
    "colab": {
     "base_uri": "https://localhost:8080/"
    },
    "id": "q8jKeRrTHUyn",
    "outputId": "f70bb6a6-0204-41c8-a8ef-c6c3f461591f",
    "tags": []
   },
   "outputs": [
    {
     "name": "stdout",
     "output_type": "stream",
     "text": [
      "0.0003157191991299282\n"
     ]
    }
   ],
   "source": [
    "# your code here\n",
    "\n",
    "mean = 2.5\n",
    "sig = 2.5\n",
    "\n",
    "def f(x, mu, sigma):\n",
    "    x = np.array(x) # to skip creating a for loop for non numpy arrays\n",
    "    return np.exp( - (x - mu)**2/(2 * sigma**2)) / (np.sqrt(2 * np.pi) * sigma)\n",
    "\n",
    "binCenterList = [] # making a list of values for the center of the bins\n",
    "for i in range(len(bins) - 1):\n",
    "    binCenterList.append((bins[i] + bins[i+1])/2)\n",
    "                         \n",
    "def objective(func, bins, counts): # defining the objective function\n",
    "    return np.sum(1/len(binCenterList)*(func - counts)**2)\n",
    "\n",
    "loss = objective(f(binCenterList, mean, sig), binCenterList, counts)\n",
    "print(loss)"
   ]
  },
  {
   "cell_type": "markdown",
   "metadata": {
    "id": "sLeARoO-QkHs"
   },
   "source": [
    "Now put this inside of a loop, and check values of the mean in steps of 0.1 between 0 and 5 to find the minimum value of the objective function.  Keep the guess that $\\sigma=2.5$ as before:"
   ]
  },
  {
   "cell_type": "code",
   "execution_count": 37,
   "metadata": {
    "colab": {
     "base_uri": "https://localhost:8080/"
    },
    "id": "Hv96hJBQQ_uV",
    "outputId": "48305b16-b07d-461a-ccfa-c4ffda49a187",
    "tags": []
   },
   "outputs": [
    {
     "name": "stdout",
     "output_type": "stream",
     "text": [
      "Best mean: 1.9, Objective function value: 0.0001863040774497958\n"
     ]
    }
   ],
   "source": [
    "# your code here\n",
    "\n",
    "step_size = 0.1\n",
    "sig = 2.5\n",
    "\n",
    "# goes through each value of the mean from 0 to 5 in steps of 0.1 and saves the lowest value of the loss function and the mean at that point\n",
    "def check_mean(step):\n",
    "    temp_mean = 0\n",
    "    mu = 0\n",
    "    lossFunc = 0\n",
    "    while mu <= 5:\n",
    "        if mu == 0:\n",
    "            lossFunc = objective(f(binCenterList, mu, sig), binCenterList, counts)\n",
    "        if objective(f(binCenterList, mu, sig), binCenterList, counts) < lossFunc:\n",
    "            temp_mean = mu\n",
    "            lossFunc = objective(f(binCenterList, mu, sig), binCenterList, counts)\n",
    "        # print(f'mean: {mu}, loss: {objective(f(binCenterList, mu, sig), binCenterList, counts)}')\n",
    "        mu += 0.1\n",
    "        mu = round(mu, 1) # to remove float imprecision \n",
    "    print(f'Best mean: {temp_mean}, Objective function value: {lossFunc}')\n",
    "    return temp_mean, lossFunc\n",
    "\n",
    "mean, loss = check_mean(step_size)"
   ]
  },
  {
   "cell_type": "markdown",
   "metadata": {
    "id": "ClXEoB3VTkZJ"
   },
   "source": [
    "Now do the same thing with the width $\\sigma$, scanning from 0.1 to 5 in steps of 0.1, this time assuming for $\\mu$ the best guess of $\\mu$ from the loop above:"
   ]
  },
  {
   "cell_type": "code",
   "execution_count": 38,
   "metadata": {
    "colab": {
     "base_uri": "https://localhost:8080/"
    },
    "id": "HGowO6UgRsFn",
    "outputId": "83e798b9-038f-429c-bec6-33cbb0224315",
    "tags": []
   },
   "outputs": [
    {
     "name": "stdout",
     "output_type": "stream",
     "text": [
      "Best sigma: 3.0, Objective function value: 4.973189465534082e-05\n"
     ]
    }
   ],
   "source": [
    "# your code here\n",
    "\n",
    "# goes through each value of sigma from 0.1 to 5 in steps of 0.1 and saves the lowest value of the loss function and the sigma at that point \n",
    "def check_sigma(step):\n",
    "    temp_sigma = 0.1\n",
    "    sigma = 0.1\n",
    "    lossFunc = 0\n",
    "    while sigma <= 5:\n",
    "        if sigma == 0.1:\n",
    "            lossFunc = objective(f(binCenterList, mean, sigma), binCenterList, counts)\n",
    "        if objective(f(binCenterList, mean, sigma), binCenterList, counts) < lossFunc:\n",
    "            temp_sigma = sigma\n",
    "            lossFunc = objective(f(binCenterList, mean, sigma), binCenterList, counts)\n",
    "        # print(f'sigma: {sigma}, loss: {objective(f(binCenterList, mean, sigma), binCenterList, counts)}')\n",
    "        sigma += 0.1\n",
    "        sigma = round(sigma, 1) # to remove float imprecision \n",
    "    print(f'Best sigma: {temp_sigma}, Objective function value: {lossFunc}')\n",
    "    return temp_sigma, lossFunc\n",
    "\n",
    "sig, loss = check_sigma(step_size)"
   ]
  },
  {
   "cell_type": "markdown",
   "metadata": {
    "id": "DrJE7mwwaSqY"
   },
   "source": [
    "This is a bit of a brute-force approach.  We'll explore gradient descent for finding the local minima in a future homework."
   ]
  }
 ],
 "metadata": {
  "colab": {
   "name": "HW1.ipynb",
   "provenance": [],
   "toc_visible": true
  },
  "kernelspec": {
   "display_name": "Python 3 (ipykernel)",
   "language": "python",
   "name": "python3"
  },
  "language_info": {
   "codemirror_mode": {
    "name": "ipython",
    "version": 3
   },
   "file_extension": ".py",
   "mimetype": "text/x-python",
   "name": "python",
   "nbconvert_exporter": "python",
   "pygments_lexer": "ipython3",
   "version": "3.9.13"
  }
 },
 "nbformat": 4,
 "nbformat_minor": 4
}
