{
 "cells": [
  {
   "cell_type": "code",
   "execution_count": 1,
   "metadata": {
    "executionInfo": {
     "elapsed": 338,
     "status": "ok",
     "timestamp": 1648752376661,
     "user": {
      "displayName": "Michael Hance",
      "userId": "01498427894019643105"
     },
     "user_tz": 420
    },
    "id": "WKo_jWSLI6PC",
    "tags": []
   },
   "outputs": [],
   "source": [
    "%matplotlib inline\n",
    "import matplotlib.pyplot as plt\n",
    "import numpy as np\n",
    "import math\n",
    "import torch.nn\n",
    "import torch.optim\n",
    "import torch.utils.data"
   ]
  },
  {
   "cell_type": "markdown",
   "metadata": {
    "id": "_z6AbT6VTooP"
   },
   "source": [
    "# Problem 1\n",
    "\n",
    "Use `np.histogram` to calculate the [probability density](https://en.wikipedia.org/wiki/Probability_density_function) that values in an arbitrary input data array fall within user-specified bins. Hint: `np.histogram` does all the work for you with the correct arguments."
   ]
  },
  {
   "cell_type": "code",
   "execution_count": 2,
   "metadata": {
    "executionInfo": {
     "elapsed": 221,
     "status": "ok",
     "timestamp": 1648752809896,
     "user": {
      "displayName": "Michael Hance",
      "userId": "01498427894019643105"
     },
     "user_tz": 420
    },
    "id": "txgSi6EUTqXX",
    "tags": []
   },
   "outputs": [],
   "source": [
    "def estimate_probability_density(data, bins):\n",
    "    \"\"\"Estimate the probability density of arbitrary data.\n",
    "    \n",
    "    Parameters\n",
    "    ----------\n",
    "    data : array\n",
    "        1D numpy array of random values.\n",
    "    bins : array\n",
    "        1D numpy array of N+1 bin edges to use. Must be increasing.\n",
    "\n",
    "    Returns\n",
    "    -------\n",
    "    array\n",
    "        1D numpy array of N probability densities.\n",
    "    \"\"\"\n",
    "    assert np.all(np.diff(bins) > 0)\n",
    "\n",
    "    # YOUR CODE HERE\n",
    "    \n",
    "    counts, bins = np.histogram(data, bins, density=True)\n",
    "    \n",
    "    return counts\n",
    "    \n",
    "    raise NotImplementedError()"
   ]
  },
  {
   "cell_type": "code",
   "execution_count": 3,
   "metadata": {
    "executionInfo": {
     "elapsed": 12,
     "status": "ok",
     "timestamp": 1648752810060,
     "user": {
      "displayName": "Michael Hance",
      "userId": "01498427894019643105"
     },
     "user_tz": 420
    },
    "id": "2xOvjCPZT0hC",
    "tags": []
   },
   "outputs": [],
   "source": [
    "# A correct solution should pass these tests.\n",
    "generator = np.random.RandomState(seed=123)\n",
    "data = generator.uniform(size=100)\n",
    "bins = np.linspace(0., 1., 11)\n",
    "rho = estimate_probability_density(data, bins)\n",
    "assert np.allclose(rho, [ 0.6,  0.8,  0.7,  1.7,  1.1,  1.3,  1.6,  0.9,  0.8,  0.5])\n",
    "data = generator.uniform(size=1000)\n",
    "bins = np.linspace(0., 1., 101)\n",
    "rho = estimate_probability_density(data, bins)\n",
    "dx = bins[1] - bins[0]\n",
    "assert np.allclose(dx * rho.sum(), 1.)"
   ]
  },
  {
   "cell_type": "markdown",
   "metadata": {
    "id": "a9iMtapqRZcM"
   },
   "source": [
    "# Problem 2\n",
    "\n",
    "Define a function to calculate the [entropy](https://en.wikipedia.org/wiki/Entropy_estimation) $H(\\rho)$ of a binned probability density, defined as:\n",
    "\n",
    "$$H(\\rho) \\equiv -\\sum_i \\rho_i \\log(\\rho_i) \\Delta w_i$$\n",
    "\n",
    "where $\\rho_i$ is the binned density in bin $i$ with width $w_i$."
   ]
  },
  {
   "cell_type": "code",
   "execution_count": 4,
   "metadata": {
    "executionInfo": {
     "elapsed": 286,
     "status": "ok",
     "timestamp": 1648752813865,
     "user": {
      "displayName": "Michael Hance",
      "userId": "01498427894019643105"
     },
     "user_tz": 420
    },
    "id": "E1oPDWPcRzUY"
   },
   "outputs": [],
   "source": [
    "def binned_entropy(rho, bins):\n",
    "    \"\"\"Calculate the binned entropy.\n",
    "    \n",
    "    Parameters\n",
    "    ----------\n",
    "    rho : array\n",
    "        1D numpy array of densities, e.g., calculated by the previous function.\n",
    "    bins : array\n",
    "        1D numpy array of N+1 bin edges to use. Must be increasing.\n",
    "\n",
    "    Returns\n",
    "    -------\n",
    "    float\n",
    "        Value of the binned entropy.\n",
    "    \"\"\"\n",
    "    assert np.all(np.diff(bins) > 0)\n",
    "    \n",
    "    # YOUR CODE HERE\n",
    "    \n",
    "    widths = np.empty(0) # creating list of widths of each bin\n",
    "    for i in range(len(bins) - 1):\n",
    "        widths = np.append(widths, bins[i+1] - bins[i])\n",
    "    \n",
    "    return -np.sum(rho * np.log(rho) * widths)\n",
    "    \n",
    "    raise NotImplementedError()\n"
   ]
  },
  {
   "cell_type": "code",
   "execution_count": 5,
   "metadata": {
    "executionInfo": {
     "elapsed": 178,
     "status": "ok",
     "timestamp": 1648752814222,
     "user": {
      "displayName": "Michael Hance",
      "userId": "01498427894019643105"
     },
     "user_tz": 420
    },
    "id": "eHDTdUe_R5j_"
   },
   "outputs": [],
   "source": [
    "# A correct solution should pass these tests.\n",
    "generator = np.random.RandomState(seed=123)\n",
    "data1 = generator.uniform(size=10000)\n",
    "data2 = generator.uniform(size=10000) ** 4\n",
    "bins = np.linspace(0., 1., 11)\n",
    "rho1 = estimate_probability_density(data1, bins)\n",
    "rho2 = estimate_probability_density(data2, bins)\n",
    "H1 = binned_entropy(rho1, bins)\n",
    "H2 = binned_entropy(rho2, bins)\n",
    "assert np.allclose(H1, -0.000801544)\n",
    "assert np.allclose(H2, -0.699349908)"
   ]
  },
  {
   "cell_type": "markdown",
   "metadata": {
    "id": "3UH9jbZTR2wN"
   },
   "source": [
    "# Problem 3\n",
    "\n",
    "We're going to implement a network that will do multi-category classification.  We'll base this on the tools we developed in the [NeuralNetworks2](https://git.ucsc.edu/mhance/phys152/-/blob/master/Notebooks/NeuralNetworks2.ipynb) notebook from class."
   ]
  },
  {
   "cell_type": "markdown",
   "metadata": {
    "executionInfo": {
     "elapsed": 6686,
     "status": "ok",
     "timestamp": 1648852688955,
     "user": {
      "displayName": "Michael Hance",
      "userId": "01498427894019643105"
     },
     "user_tz": 420
    },
    "id": "kx_jGSlTEwSF"
   },
   "source": [
    "First let's load in the data file.  You can find the data file in the HW area of my gitlab repo: [HW2_data.h5](https://git.ucsc.edu/mhance/phys152/-/blob/master/HW/HW2_data.h5)"
   ]
  },
  {
   "cell_type": "code",
   "execution_count": 6,
   "metadata": {
    "executionInfo": {
     "elapsed": 163,
     "status": "ok",
     "timestamp": 1648852689102,
     "user": {
      "displayName": "Michael Hance",
      "userId": "01498427894019643105"
     },
     "user_tz": 420
    },
    "id": "grgFGAURGLGP"
   },
   "outputs": [
    {
     "data": {
      "text/plain": [
       "<torch._C.Generator at 0x1e86993ccf0>"
      ]
     },
     "execution_count": 6,
     "metadata": {},
     "output_type": "execute_result"
    }
   ],
   "source": [
    "import h5py\n",
    "h5f = h5py.File('HW2_data.h5','r')\n",
    "x_train= h5f['x_train'][:]\n",
    "y_train= h5f['y_train'][:]\n",
    "x_test= h5f['x_test'][:]\n",
    "y_test= h5f['y_test'][:]\n",
    "h5f.close()\n",
    "\n",
    "torch.manual_seed(123)"
   ]
  },
  {
   "cell_type": "code",
   "execution_count": 7,
   "metadata": {},
   "outputs": [
    {
     "name": "stdout",
     "output_type": "stream",
     "text": [
      "(1000, 4)\n",
      "(1000,)\n"
     ]
    }
   ],
   "source": [
    "print(np.shape(x_train))\n",
    "print(np.shape(y_train))"
   ]
  },
  {
   "cell_type": "code",
   "execution_count": 8,
   "metadata": {},
   "outputs": [
    {
     "data": {
      "text/plain": [
       "(array([354.,   0., 328.,   0., 318.,   0.]),\n",
       " array([0. , 0.5, 1. , 1.5, 2. , 2.5, 3. ]),\n",
       " <BarContainer object of 6 artists>)"
      ]
     },
     "execution_count": 8,
     "metadata": {},
     "output_type": "execute_result"
    },
    {
     "data": {
      "image/png": "[encoded data removed]",
      "text/plain": [
       "<Figure size 640x480 with 1 Axes>"
      ]
     },
     "metadata": {},
     "output_type": "display_data"
    }
   ],
   "source": [
    "plt.hist(y_train,bins=(np.max(y_train)+1)*2,range=(0,np.max(y_train)+1))"
   ]
  },
  {
   "cell_type": "markdown",
   "metadata": {
    "id": "9Rp7v2yLGVDv"
   },
   "source": [
    "Now the fun part.  Let's construct a similar network to what we used in class: \n",
    "- 2 hidden layers, with 20 and 25 nodes respectively, using ReLU activation functions.  \n",
    "- The number of input layers should correspond to the number of features in the training/test data, and the number of output layers should correspond to the number of categories in the training/test data.  In this case, the `y_train` and `y_test` lists will show the category label as a number between `0` and `C`, where `C` is the total number of categories.  You should inspect the training/test data to figure out the number of features and the number of categories.\n",
    "- For the loss function, we should use `torch.nn.CrossEntropyLoss()`.  This implements the `softmax` activation function on the output layer that we'll use for multi-category classification.\n",
    "- Let's use the Adam optimizer, starting with a learning rate of 0.1\n",
    "- Break the training data into 5 batches and run for 1000 epochs\n",
    "\n",
    "Then you can train the network!  Keep track of the loss values for the training and test data, and plot them vs the epoch number after the training is completed.\n",
    "\n",
    "The predictions of the network will be a set of `C` numbers for each event, corresponding to the probability that the event is classified as each of the `C` different categories.  We should take the maximum value for each set of `C` numbers to determine the category label.  So if the output for event 0 looks like `[0.8, 0.6, 0.95, 0.10]` and the categories are numbered `0..3` then the predicted label would be `2`.\n",
    "\n",
    "Once the network is trained, let's inspect the output.  Using the predictions for the training data, construct a \"confusion matrix\", showing the true labels on one axis and the predicted labels on the other.\n",
    "\n",
    "I can offer more clarifications on this as the HW period goes on, so feel free to ask questions as you start on this one!"
   ]
  },
  {
   "cell_type": "code",
   "execution_count": 9,
   "metadata": {
    "tags": []
   },
   "outputs": [],
   "source": [
    "# creating the net\n",
    "\n",
    "net = torch.nn.Sequential(\n",
    "    torch.nn.Linear(4, 20), # 4 input features going into 20 nodes\n",
    "    torch.nn.ReLU(),\n",
    "    torch.nn.Linear(20, 25), # 20 nodes into 25 nodes\n",
    "    torch.nn.ReLU(),\n",
    "    torch.nn.Linear(25, 3), # 3 categories -> 0, 1, 2 => 3 outputs\n",
    ")\n"
   ]
  },
  {
   "cell_type": "code",
   "execution_count": 10,
   "metadata": {
    "tags": []
   },
   "outputs": [],
   "source": [
    "torch.save(net.state_dict(), 'net.pth') # saving the network"
   ]
  },
  {
   "cell_type": "code",
   "execution_count": 11,
   "metadata": {
    "tags": []
   },
   "outputs": [],
   "source": [
    "loss_f = torch.nn.CrossEntropyLoss() # loss function"
   ]
  },
  {
   "cell_type": "code",
   "execution_count": 12,
   "metadata": {
    "tags": []
   },
   "outputs": [
    {
     "name": "stdout",
     "output_type": "stream",
     "text": [
      "BATCH 0:\n",
      "  x_batch[:,0] = tensor([0.8750, 0.3750, 0.6250, 0.6250, 0.3750])\n",
      "  y_batch[:,0] = tensor([2., 0., 0., 0., 2.]).\n"
     ]
    }
   ],
   "source": [
    "# converting the numpy arrays to torch tensors\n",
    "x_trainT = torch.tensor(x_train, dtype=torch.float)  # dtype of float returns float64 use torch.float\n",
    "y_trainT = torch.tensor(y_train, dtype=torch.float)\n",
    "\n",
    "x_testT = torch.tensor(x_test, dtype=torch.float)\n",
    "y_testT = torch.tensor(y_test, dtype=torch.float)\n",
    "# print(torch.nn.Linear(20, 25).weight.dtype)\n",
    "\n",
    "xy_train = torch.utils.data.TensorDataset(x_trainT, y_trainT)\n",
    "\n",
    "loader = torch.utils.data.DataLoader(xy_train, batch_size=5, shuffle=True)\n",
    "\n",
    "# for batch_num, (x_batch, y_batch) in enumerate(loader):\n",
    "#     if batch_num == 0:\n",
    "#         print(f'BATCH {batch_num}:\\n  x_batch[:,0] = {x_batch[:,0]}\\n  y_batch[:,0] = {y_batch}.')"
   ]
  },
  {
   "cell_type": "code",
   "execution_count": 22,
   "metadata": {
    "tags": []
   },
   "outputs": [
    {
     "name": "stdout",
     "output_type": "stream",
     "text": [
      "0\n",
      "50\n"
     ]
    },
    {
     "data": {
      "text/plain": [
       "<matplotlib.legend.Legend at 0x1e86ef18dc0>"
      ]
     },
     "execution_count": 22,
     "metadata": {},
     "output_type": "execute_result"
    },
    {
     "data": {
      "image/png": "[encoded data removed]",
      "text/plain": [
       "<Figure size 640x480 with 1 Axes>"
      ]
     },
     "metadata": {},
     "output_type": "display_data"
    }
   ],
   "source": [
    "loss_train, loss_test = np.empty(0), np.empty(0) # arrays to plot differences in losses\n",
    "\n",
    "optimizer = torch.optim.Adam(net.parameters(), lr=0.1) # creating ADAM optimizer\n",
    "\n",
    "net.train()\n",
    "net.load_state_dict(torch.load('net.pth'))\n",
    "\n",
    "for epoch in range(100):\n",
    "    if epoch%50 == 0:\n",
    "        print(epoch)\n",
    "\n",
    "    for x_batch, y_batch in loader:\n",
    "        # training the model\n",
    "        y_pred = net(x_batch) \n",
    "        optimizer.zero_grad()\n",
    "        loss_tr = loss_f(y_pred, y_batch.type(torch.long))\n",
    "        loss_tr.backward()\n",
    "        optimizer.step()\n",
    "    loss_train = np.append(loss_train, loss_tr.data)\n",
    "    \n",
    "    # evaluating the model\n",
    "    net.eval()\n",
    "    y_pred_test = net(x_testT)\n",
    "    loss_te = loss_f(y_pred_test, y_testT.type(torch.long))\n",
    "    loss_test = np.append(loss_test, loss_te.data)\n",
    "\n",
    "plt.plot(loss_train, '.', label='TRAIN')\n",
    "plt.plot(loss_test, '.', label='TEST')\n",
    "plt.legend()"
   ]
  },
  {
   "cell_type": "code",
   "execution_count": 23,
   "metadata": {
    "tags": []
   },
   "outputs": [
    {
     "name": "stdout",
     "output_type": "stream",
     "text": [
      "[1.05844605 1.09310591 1.05351257 1.11487222 1.12167704 1.11414564\n",
      " 1.04429114 1.09573901 1.0569551  1.00175464 1.20294952 1.08121896\n",
      " 1.11167026 1.01393723 1.22920132 1.15949619 1.1091013  1.11490595\n",
      " 1.12181783 1.04488146 1.10796678 1.28971469 1.12162101 1.19787347\n",
      " 1.05800343 1.02267146 1.09548914 1.21856093 1.101946   1.10705578\n",
      " 1.12285364 1.03009498 0.97498703 1.06161213 1.11638474 1.23494315\n",
      " 1.17151582 1.10533834 1.13591361 1.06332803 1.16052389 1.28440571\n",
      " 1.07976913 1.1244719  1.35809445 1.17676008 1.15744543 1.13997817\n",
      " 1.05114567 1.06095016 1.11961639 1.17829978 1.09613216 1.06793666\n",
      " 1.04977441 1.19690394 1.14116406 1.03115785 1.38116932 1.15775383\n",
      " 1.10988176 1.08243918 1.06029916 1.09576762 1.11853933 1.21966016\n",
      " 1.01024103 1.11030602 1.00817382 1.12362635 0.96241218 1.13698471\n",
      " 1.11072946 1.1034441  1.01043093 0.99561083 0.92566299 1.03219533\n",
      " 1.22531855 1.10498154 1.10815656 1.12183619 1.06619728 1.01090491\n",
      " 1.03487742 1.11466098 1.11511445 1.22610378 1.00767803 1.2076571\n",
      " 1.11800241 1.11560822 1.12276232 1.10287011 1.17867017 1.02964246\n",
      " 1.05938935 1.16914058 1.15908396 1.10293198]\n"
     ]
    },
    {
     "data": {
      "text/plain": [
       "<matplotlib.legend.Legend at 0x1e86ee10310>"
      ]
     },
     "execution_count": 23,
     "metadata": {},
     "output_type": "execute_result"
    },
    {
     "data": {
      "image/png": "[encoded data removed]",
      "text/plain": [
       "<Figure size 640x480 with 1 Axes>"
      ]
     },
     "metadata": {},
     "output_type": "display_data"
    }
   ],
   "source": [
    "print(loss_train)\n",
    "plt.plot(loss_train, '.', label='TRAIN')\n",
    "plt.plot(loss_test, '.', label='TEST')\n",
    "plt.legend()"
   ]
  }
 ],
 "metadata": {
  "colab": {
   "authorship_tag": "ABX9TyP3ns07cB9JHhUEFAuxihak",
   "name": "HW2.ipynb",
   "provenance": []
  },
  "kernelspec": {
   "display_name": "Python 3 (ipykernel)",
   "language": "python",
   "name": "python3"
  },
  "language_info": {
   "codemirror_mode": {
    "name": "ipython",
    "version": 3
   },
   "file_extension": ".py",
   "mimetype": "text/x-python",
   "name": "python",
   "nbconvert_exporter": "python",
   "pygments_lexer": "ipython3",
   "version": "3.9.13"
  }
 },
 "nbformat": 4,
 "nbformat_minor": 4
}
