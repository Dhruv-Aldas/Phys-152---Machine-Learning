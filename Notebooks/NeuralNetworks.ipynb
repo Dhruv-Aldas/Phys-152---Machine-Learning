{
 "cells": [
  {
   "cell_type": "markdown",
   "metadata": {
    "id": "ba5FX4AxhWkC"
   },
   "source": [
    "# Neural Networks with Pytorch"
   ]
  },
  {
   "cell_type": "markdown",
   "metadata": {
    "id": "bYlXm2Kzhb0u"
   },
   "source": [
    "In this module we'll explore the basics of neural networks using commercial tools."
   ]
  },
  {
   "cell_type": "code",
   "execution_count": 1,
   "metadata": {
    "id": "S2NG53acU28C"
   },
   "outputs": [],
   "source": [
    "%matplotlib inline\n",
    "import numpy as np\n",
    "import sys\n",
    "import matplotlib.pyplot as plt\n",
    "import torch.nn\n",
    "import torch.optim\n",
    "import torch.utils.data"
   ]
  },
  {
   "cell_type": "code",
   "execution_count": 2,
   "metadata": {
    "id": "vYVzsN8TbX-H"
   },
   "outputs": [],
   "source": [
    "try:\n",
    "  import google.colab\n",
    "  IN_COLAB = True\n",
    "except:\n",
    "  IN_COLAB = False\n",
    "\n",
    "if IN_COLAB:\n",
    "  from google.colab import drive\n",
    "  drive.mount('/content/gdrive')\n",
    "  !ls /content/gdrive/My\\ Drive/Colab\\ Notebooks/Colab152/utils/*.py\n",
    "  sys.path.append('/content/gdrive/My Drive/Colab Notebooks/Colab152/utils')\n",
    "else:\n",
    "  sys.path.append('../utils')"
   ]
  },
  {
   "cell_type": "markdown",
   "metadata": {
    "id": "DJ9KgGoDVZH9"
   },
   "source": [
    "#### Building Block\n",
    "\n",
    "The internal structure of a NN is naturally described by a computation graph that connects simple building blocks. The basic building-block unit is a function of $D$ input features $x_i$,\n",
    "$$\n",
    "f(\\mathbf{x}) = \\phi\\left(\\mathbf{x}\\cdot\\mathbf{w} + b\\right)\n",
    "$$\n",
    "with $D+1$ parameters consisting of $D$ **weights** $w_i$ and a single **bias** $b$.\n",
    "\n",
    "The recipe for obtaining the output value is then:\n",
    " - propagate each input value $x_i$ with a strength $w_i$,\n",
    " - sum the values $x_i w_i$,\n",
    " - apply the activation $\\phi$.\n",
    "\n",
    "Note that this building block is mostly linear, except for the **activation function** $\\phi(s)$. This allows us to implicitly work in a higher dimensional space where non-linear structure in data is easier to model.\n",
    "\n",
    "The building-block equation is straightfoward to implement as code:"
   ]
  },
  {
   "cell_type": "code",
   "execution_count": 4,
   "metadata": {
    "id": "rx5QxjPNV_5q"
   },
   "outputs": [],
   "source": [
    "def nn_unit(x, w, b, phi):\n",
    "    return phi(np.dot(x, w) + b)"
   ]
  },
  {
   "cell_type": "markdown",
   "metadata": {
    "id": "uPkJ6_CJWDva"
   },
   "source": [
    "Note that we pass in phi as an argument, so this is completely generic."
   ]
  },
  {
   "cell_type": "code",
   "execution_count": 5,
   "metadata": {
    "id": "EgiyFYYYWDSN"
   },
   "outputs": [
    {
     "data": {
      "text/plain": [
       "-0.9640275800758169"
      ]
     },
     "execution_count": 5,
     "metadata": {},
     "output_type": "execute_result"
    }
   ],
   "source": [
    "nn_unit(x=[0, 1, -1], w=[1, 2, 3], b=-1, phi=np.tanh)"
   ]
  },
  {
   "cell_type": "markdown",
   "metadata": {
    "id": "LIdXsyAgZDFF"
   },
   "source": [
    "We can define other common activation functions:"
   ]
  },
  {
   "cell_type": "code",
   "execution_count": 6,
   "metadata": {
    "id": "E1iurzMOZCuQ"
   },
   "outputs": [],
   "source": [
    "relu = lambda s: np.maximum(0, s)\n",
    "elu = lambda s: np.maximum(0, s) + np.minimum(0, np.expm1(s)) # expm1(s) = exp(s) - 1\n",
    "softplus = lambda s: np.log(1 + np.exp(s))\n",
    "sigmoid = lambda s: 1 / (1 + np.exp(-s)) # also known as the \"logistic function\"\n",
    "tanh = lambda s: np.tanh(s)\n",
    "softsign = lambda s: s / (np.abs(s) + 1)"
   ]
  },
  {
   "cell_type": "markdown",
   "metadata": {
    "id": "l4ONvmxZZP-B"
   },
   "source": [
    "#### Network Layer\n",
    "\n",
    "What happens if we replace the vectors $\\mathbf{x}$ and $\\mathbf{w}$ above with matrices?\n",
    "$$\n",
    "F(X) = \\phi\\left( X W + \\mathbf{b}\\right)\n",
    "$$\n",
    "If $X$ has shape $(N, D)$ and holds $N$ samples of $D$ features, then $W$ must have shape $(D, M)$ so $F(X)$ converts the $D$ input features into $M$ output features for each sample. We say that $F$ represents a linear network **layer** with $D$ input nodes and $M$ output nodes. Note that the bias is now a vector of $M$ bias values, one for each output value.\n",
    "\n",
    "We cannot really add a vector $\\mathbf{b}$ to the matrix $X W$ but we are using the \"broadcasting\" convention that this means add the same vector to each row (sample) of $X W$.  We also cannot apply $\\phi(s)$ to a matrix, but we are using the \"elementwise\" convention that this means apply $\\phi$ separately to each element of the matrix.\n",
    "\n",
    "To connect this matrix version with our earlier vector version, notice that $F(X)$ transforms a single input sample $\\mathbf{x}_i$ (row of $X$) into $M$ different outputs, $f_m(\\mathbf{x}_i)$ each with their own weight vector and bias value:\n",
    "$$\n",
    "f_m(\\mathbf{x}_i) = \\phi\\left(\\mathbf{x}_i\\cdot \\mathbf{w}_m + b_m\\right) \\; ,\n",
    "$$\n",
    "where $\\mathbf{w}_m$ is the $m$-th column of $W$ and $b_m$ is the $m$-th element of $\\mathbf{b}$.\n",
    "\n",
    "The `nn_unit` function we defined above already implements a layer if we pass it matrices $X$ and $W$ and a vector $\\mathbf{b}$. For example:"
   ]
  },
  {
   "cell_type": "code",
   "execution_count": 7,
   "metadata": {
    "id": "elPThaSOY6DK"
   },
   "outputs": [
    {
     "data": {
      "text/plain": [
       "array([[0.73105858, 0.5       , 0.81757448],\n",
       "       [0.5       , 0.88079708, 0.5       ]])"
      ]
     },
     "execution_count": 7,
     "metadata": {},
     "output_type": "execute_result"
    }
   ],
   "source": [
    "nn_unit(x=[[1., 0.5], [-1, 1]], w=[[1, -1, 1], [2, 0, 1]], b=[-1, 1, 0], phi=sigmoid)"
   ]
  },
  {
   "cell_type": "markdown",
   "metadata": {
    "id": "CEXgOWQLaQNW"
   },
   "source": [
    "A layer with $n_{in}$ inputs and $n_{out}$ outputs has a total of $(n_{in} + 1) n_{out}$ parameters. These can add up quickly when building useful networks!"
   ]
  },
  {
   "cell_type": "markdown",
   "metadata": {
    "id": "xXD6DeObaUoF"
   },
   "source": [
    "#### Network Graph\n",
    "\n",
    "Finally, we can build a simple **fully connected graph** by stacking layers horizontally, which corresponds to nested calls of each layer's function. For example, with 3 layers computed by $F$, $G$, $H$ stacked (left to right), the overall graph computation is:\n",
    "$$\n",
    "N(X) = H\\left(G\\left(F(X)\\right)\\right) \\; ,\n",
    "$$\n",
    "\n",
    "Nodes between the input (leftmost) and output (rightmost) nodes are known as **hidden nodes**.\n",
    "\n",
    "The corresponding code for arbitrary layers is:"
   ]
  },
  {
   "cell_type": "code",
   "execution_count": 8,
   "metadata": {
    "id": "NLc92FNiaNVE"
   },
   "outputs": [],
   "source": [
    "def nn_graph(X, *layers):\n",
    "    for W, b, phi in layers:\n",
    "        X = nn_unit(X, W, b, phi)\n",
    "    return X"
   ]
  },
  {
   "cell_type": "markdown",
   "metadata": {
    "id": "zgDnBWIYaeJm"
   },
   "source": [
    "For example, here is a three-layer network with the same architecture as the graph above. Note how the output dimension of one layer must match the input dimension of the next layer."
   ]
  },
  {
   "cell_type": "code",
   "execution_count": 9,
   "metadata": {
    "id": "AH2HcVkpaaPa"
   },
   "outputs": [
    {
     "data": {
      "text/plain": [
       "array([1., 1.])"
      ]
     },
     "execution_count": 9,
     "metadata": {},
     "output_type": "execute_result"
    }
   ],
   "source": [
    "nn_graph([1, 2, 3, 4, 5, 6, 7, 8],\n",
    "    ([\n",
    "        [11, 12, 13, 14],\n",
    "        [21, 22, 23, 24],\n",
    "        [31, 32, 33, 34],\n",
    "        [41, 42, 43, 44],\n",
    "        [51, 52, 53, 54],\n",
    "        [61, 62, 63, 64],\n",
    "        [71, 72, 73, 74],\n",
    "        [81, 82, 83, 84],\n",
    "    ], [1, 2, 3, 4], tanh),    # LYR1: n_in=8, n_out=4\n",
    "    ([\n",
    "        [11, 12, 13],\n",
    "        [21, 22, 23],\n",
    "        [31, 32, 33],\n",
    "        [41, 42, 43],\n",
    "    ], [1, 2, 3], relu),       # LYR2: n_in=4, n_out=3\n",
    "    ([\n",
    "        [11, 12],\n",
    "        [21, 22],\n",
    "        [31, 32],\n",
    "    ], [1, 2], sigmoid)        # LYR3: n_in=3, n_out=4\n",
    ")"
   ]
  },
  {
   "cell_type": "markdown",
   "metadata": {
    "id": "YHjG9638arj6"
   },
   "source": [
    "The weight and bias values are chosen to make the tensors easier to read, but would not make sense for a real network. As a result, the final output of `[1., 1.]` is not surprising given how the sigmoid activation saturates for input outside a narrow range."
   ]
  },
  {
   "cell_type": "markdown",
   "metadata": {
    "id": "T54-B41oa-OA"
   },
   "source": [
    "### Data Flow Perspective\n",
    "\n",
    "The diagram below show the tensors flowing forward (left to right) in a typical fully connected graph. The main flow consists of $N$ input samples flowing from $X_0$ to $X_4$ with a number of features that varies between layers:\n",
    "$$\n",
    "X_{n+1} = \\phi\\left( X_n\\cdot W_{n+1} + \\mathbf{b}_{n+1}\\right) \\; .\n",
    "$$\n",
    "\n",
    "The computation of each layer's output is parameterized by the weight and bias tensors shown: note how their shapes are determined by the number of input and output features for each layer. The parameter tensors are usually randomly initialized (more on this soon) so only the input $X_0$ and target $Y$ are needed to drive the calculation (and so must be copied to GPU memory when using hardware acceleration).\n",
    "\n",
    "The final output $X_4$ is compared with the target values $Y$ to calculate a \"loss\" $\\ell(X_4, Y)$ that decreases as $X_4$ becomes more similar to $Y$ (more on this soon).\n",
    "\n",
    "![forward flow](https://raw.githubusercontent.com/dkirkby/MachineLearningStatistics/3aa7385e1fd0b1572013bdf1f1c823806b744b2d/notebooks/img/NeuralNetworks/forward_flow.png) \n",
    "\n",
    "The diagram below shows the gradient (partial derivative) tensors flowing backwards (\"backpropagation\") through the same graph using the chain rule:\n",
    "$$\n",
    "\\frac{\\partial \\ell}{\\partial X_n} = \\frac{\\partial \\ell}{\\partial X_{n+1}} \\frac{\\partial X_{n+1}}{\\partial X_n}\n",
    "\\quad, \\quad\n",
    "\\frac{\\partial \\ell}{\\partial W_{n+1}} = \\frac{\\partial \\ell}{\\partial X_{n+1}} \\frac{\\partial X_{n+1}}{\\partial W_{n+1}} \\; .\n",
    "$$\n",
    "\n",
    "![backward flow](https://raw.githubusercontent.com/dkirkby/MachineLearningStatistics/3aa7385e1fd0b1572013bdf1f1c823806b744b2d/notebooks/img/NeuralNetworks/backward_flow.png)\n",
    "\n",
    "Note that these gradient tensors are just numbers, not functions. All of these tensors occupy the (limited) GPU memory when using hardware acceleration but, in most applications, only the final output and the parameter gradients are stored (with 32-bit floating point precision).\n",
    "\n",
    "When working with large datasets, the $N$ input samples are usually broken up into fixed-size randomly subsampled \"minibatches\". Optimiztion with the resulting parameter gradients leads to the \"stochastic gradient descent\" (SGD) algorithm."
   ]
  },
  {
   "cell_type": "markdown",
   "metadata": {
    "id": "bjjNNOS9fD_i"
   },
   "source": [
    "### PyTorch Primer"
   ]
  },
  {
   "cell_type": "markdown",
   "metadata": {
    "id": "PDhU3WjBjHcC"
   },
   "source": [
    "A fully connected network can be created with a few lines in PyTorch:"
   ]
  },
  {
   "cell_type": "code",
   "execution_count": 10,
   "metadata": {
    "id": "I-La140danFZ"
   },
   "outputs": [],
   "source": [
    "torch.manual_seed(123)\n",
    "\n",
    "net = torch.nn.Sequential(\n",
    "    torch.nn.Linear(8, 4), #0\n",
    "    torch.nn.ReLU(),    #1\n",
    "    torch.nn.Linear(4, 3), #2\n",
    "    torch.nn.ReLU(),    #3\n",
    "    torch.nn.Linear(3, 2)  #4\n",
    ")"
   ]
  },
  {
   "cell_type": "markdown",
   "metadata": {
    "id": "fwHYFqyXjxfw"
   },
   "source": [
    "As each `Linear` layer is created, its weight and bias tensors are automatically initialized with random values, so we initially set the torch random seed for reproducible results.\n",
    "\n",
    "This construction breaks each layer into separate linear and activation \"modules\". Each module can be accessed via its index (0-4 in this example):"
   ]
  },
  {
   "cell_type": "code",
   "execution_count": 11,
   "metadata": {
    "id": "Rc9dg2majMOV"
   },
   "outputs": [
    {
     "name": "stdout",
     "output_type": "stream",
     "text": [
      "Sequential(\n",
      "  (0): Linear(in_features=8, out_features=4, bias=True)\n",
      "  (1): ReLU()\n",
      "  (2): Linear(in_features=4, out_features=3, bias=True)\n",
      "  (3): ReLU()\n",
      "  (4): Linear(in_features=3, out_features=2, bias=True)\n",
      ")\n"
     ]
    }
   ],
   "source": [
    "print(net)"
   ]
  },
  {
   "cell_type": "code",
   "execution_count": 12,
   "metadata": {
    "id": "avh0y3Uxj0HA"
   },
   "outputs": [
    {
     "data": {
      "text/plain": [
       "Parameter containing:\n",
       "tensor([[-0.4228, -0.1435, -0.3521,  0.0331],\n",
       "        [-0.0934, -0.2682, -0.0455,  0.4737],\n",
       "        [-0.0394,  0.0159, -0.0780,  0.0786]], requires_grad=True)"
      ]
     },
     "execution_count": 12,
     "metadata": {},
     "output_type": "execute_result"
    }
   ],
   "source": [
    "net[2].weight"
   ]
  },
  {
   "cell_type": "code",
   "execution_count": 13,
   "metadata": {
    "id": "TCv8rdAej5iq"
   },
   "outputs": [
    {
     "data": {
      "text/plain": [
       "Parameter containing:\n",
       "tensor([0.4928, 0.0345], requires_grad=True)"
      ]
     },
     "execution_count": 13,
     "metadata": {},
     "output_type": "execute_result"
    }
   ],
   "source": [
    "net[4].bias"
   ]
  },
  {
   "cell_type": "markdown",
   "metadata": {
    "id": "W5wgxvFzkBz9"
   },
   "source": [
    "To run our network in the forward direction, we need some data with the expected number of features ($D=8$ in this example):\n"
   ]
  },
  {
   "cell_type": "code",
   "execution_count": 14,
   "metadata": {
    "id": "b1TOVB1cj7I5"
   },
   "outputs": [],
   "source": [
    "N = 100\n",
    "D = net[0].in_features\n",
    "Xin = torch.randn(N, D)\n",
    "Xout = net(Xin)"
   ]
  },
  {
   "cell_type": "markdown",
   "metadata": {
    "id": "FBVLspxMkIIL"
   },
   "source": [
    "The intermediate tensors ($X_1$, $\\partial\\ell/\\partial X_1$, ...) shown in the data flow diagrams above are usually not preserved, but can be useful to help understand how a network is performing and diagnose problems. To cache these intermediate tensors, use:"
   ]
  },
  {
   "cell_type": "code",
   "execution_count": 35,
   "metadata": {
    "id": "9l3e8MEGkEWf"
   },
   "outputs": [],
   "source": [
    "import torchutils\n",
    "torchutils.trace(net)"
   ]
  },
  {
   "cell_type": "code",
   "execution_count": 16,
   "metadata": {
    "id": "F0J6V8QVkN5q"
   },
   "outputs": [],
   "source": [
    "Xout = net(Xin)"
   ]
  },
  {
   "cell_type": "markdown",
   "metadata": {
    "id": "nyx_EFUlKJJF"
   },
   "source": [
    "Each submodule now has `input` and `output` attributes:"
   ]
  },
  {
   "cell_type": "code",
   "execution_count": 17,
   "metadata": {
    "id": "fMNfoCHlKJJG"
   },
   "outputs": [
    {
     "data": {
      "text/plain": [
       "True"
      ]
     },
     "execution_count": 17,
     "metadata": {},
     "output_type": "execute_result"
    }
   ],
   "source": [
    "torch.equal(Xin, net[0].input)"
   ]
  },
  {
   "cell_type": "code",
   "execution_count": 18,
   "metadata": {
    "id": "WsE7T5cJKJJG"
   },
   "outputs": [
    {
     "data": {
      "text/plain": [
       "True"
      ]
     },
     "execution_count": 18,
     "metadata": {},
     "output_type": "execute_result"
    }
   ],
   "source": [
    "torch.equal(net[0].output, net[1].input)"
   ]
  },
  {
   "cell_type": "markdown",
   "metadata": {
    "id": "TUNQW-UAKJJI"
   },
   "source": [
    "Use the `verbose` option to watch the flow of tensors through the network:"
   ]
  },
  {
   "cell_type": "code",
   "execution_count": 19,
   "metadata": {
    "id": "FwmLtw5IKJJK"
   },
   "outputs": [
    {
     "name": "stdout",
     "output_type": "stream",
     "text": [
      "0: IN (100, 8) OUT (100, 4)\n",
      "1: IN (100, 4) OUT (100, 4)\n",
      "2: IN (100, 4) OUT (100, 3)\n",
      "3: IN (100, 3) OUT (100, 3)\n",
      "4: IN (100, 3) OUT (100, 2)\n"
     ]
    }
   ],
   "source": [
    "torchutils.trace(net, verbose=True)\n",
    "Xout = net(Xin)"
   ]
  },
  {
   "cell_type": "markdown",
   "metadata": {
    "id": "7zdXajywKJJL"
   },
   "source": [
    "To complete the computational graph we need to calculate a (scalar) loss, for example:"
   ]
  },
  {
   "cell_type": "code",
   "execution_count": 20,
   "metadata": {
    "id": "O54dOvKhKJJN"
   },
   "outputs": [
    {
     "name": "stdout",
     "output_type": "stream",
     "text": [
      "tensor(0.1996, grad_fn=<MeanBackward0>)\n"
     ]
    }
   ],
   "source": [
    "loss = torch.mean(Xout ** 2)\n",
    "print(loss)"
   ]
  },
  {
   "cell_type": "markdown",
   "metadata": {
    "id": "pL1yrrlKKJJO"
   },
   "source": [
    "We can now back propagate gradients of this loss through the network:"
   ]
  },
  {
   "cell_type": "code",
   "execution_count": 21,
   "metadata": {
    "id": "p4qnoodIKJJO"
   },
   "outputs": [
    {
     "name": "stdout",
     "output_type": "stream",
     "text": [
      "4: GRAD (100, 2)\n",
      "3: GRAD (100, 3)\n",
      "2: GRAD (100, 3)\n",
      "1: GRAD (100, 4)\n",
      "0: GRAD (100, 4)\n"
     ]
    }
   ],
   "source": [
    "loss.backward()"
   ]
  },
  {
   "cell_type": "markdown",
   "metadata": {
    "id": "SZNe1VQwKJJP"
   },
   "source": [
    "The gradients of each layer's parameters are now computed and stored, ready to \"learn\" better parameters through (stochastic) gradient descent (or one of its variants):"
   ]
  },
  {
   "cell_type": "code",
   "execution_count": 22,
   "metadata": {
    "id": "Tc4FfhGqKJJQ"
   },
   "outputs": [
    {
     "data": {
      "text/plain": [
       "tensor([-0.0285, -0.0276, -0.0335,  0.0646])"
      ]
     },
     "execution_count": 22,
     "metadata": {},
     "output_type": "execute_result"
    }
   ],
   "source": [
    "net[0].bias.grad"
   ]
  },
  {
   "cell_type": "markdown",
   "metadata": {
    "id": "kKw6LlizKJJR"
   },
   "source": [
    "Using `torchutils.trace` we have also captured the gradients of the loss with respect to each module's outputs $\\partial\\ell /\\partial X_n$:"
   ]
  },
  {
   "cell_type": "code",
   "execution_count": 23,
   "metadata": {
    "id": "atnTp3wmKJJR"
   },
   "outputs": [
    {
     "data": {
      "text/plain": [
       "(torch.Size([100, 4]), torch.Size([100, 4]))"
      ]
     },
     "execution_count": 23,
     "metadata": {},
     "output_type": "execute_result"
    }
   ],
   "source": [
    "net[0].output.size(), net[0].grad.size()"
   ]
  },
  {
   "cell_type": "markdown",
   "metadata": {
    "id": "FbbL5LC2KJJS"
   },
   "source": [
    "These gradients can be useful to study since learning of all upstream parameters effectively stops when they become vanishly small (since they multiply those parameter gradients via the chain rule)."
   ]
  },
  {
   "cell_type": "markdown",
   "metadata": {
    "id": "slXlgg5QKJJn"
   },
   "source": [
    "### Loss Functions"
   ]
  },
  {
   "cell_type": "markdown",
   "metadata": {
    "id": "ZCuzJGNFKJJo"
   },
   "source": [
    "In order discover a good set of parameters using optimization, we need to specify a loss function to optimize.\n",
    "\n",
    "The loss function $\\ell(X_\\text{out}, Y_\\text{tgt})$ compares the actual network output $X_\\text{out}$ with a corresponding target value $Y_\\text{tgt}$ and approaches some minimum value as their agreement improves.\n",
    "\n",
    "A loss function must be scalar valued since we need a single gradient for each parameter to implement gradient descent,\n",
    "$$\n",
    "\\theta \\rightarrow \\theta - \\eta\\,\\frac{\\partial\\ell}{\\partial\\theta} \\; .\n",
    "$$\n",
    "Note that the loss normalization is degenerate with the learning rate $\\eta$.\n",
    "\n",
    "Our choice of loss function is primarily driven by the type of problem we are solving: regression or classification. We introduce the most obvious choices below but there are lots of reasonable variations (see [here](https://pytorch.org/docs/stable/nn.html#id51) for the complete PyTorch list)."
   ]
  },
  {
   "cell_type": "markdown",
   "metadata": {
    "id": "4lyUQebEKJJr"
   },
   "source": [
    "#### Regression Loss"
   ]
  },
  {
   "cell_type": "markdown",
   "metadata": {
    "id": "Bh2osRFEKJJs"
   },
   "source": [
    "For regression, the $L_2$ norm is a popular choice,\n",
    "$$\n",
    "L_2 = \\frac{1}{2}\\, \\left|\n",
    "X_\\text{out} - Y_\\text{tgt}\\right|^2 \\; .\n",
    "$$\n",
    "Optimizing the $L_2$ norm is equivalent to finding the maximum-likelihood (ML) point estimate for the network parameters (weights and biases) if we assume that the uncertainties in $Y_\\text{tgt}$ are \"homoscedastic\" (drawn from the same Gaussian distribution).\n",
    "\n",
    "In PyTorch, the $L_2$ norm is implemented as [torch.nn.MSELoss](https://pytorch.org/docs/stable/nn.html#mseloss):"
   ]
  },
  {
   "cell_type": "code",
   "execution_count": 24,
   "metadata": {
    "id": "Pgs2H0r4KJJu"
   },
   "outputs": [],
   "source": [
    "Y = torch.zeros_like(Xout)\n",
    "loss = torch.nn.MSELoss()(Xout, Y)"
   ]
  },
  {
   "cell_type": "markdown",
   "metadata": {
    "id": "vLSAfn-kKJJv"
   },
   "source": [
    "In case you actually have a reasonable estimate $\\sigma_Y^i$ of the $i$-th sample's target uncertainty, a better loss function is the $\\chi^2$ statistic:\n",
    "$$\n",
    "\\chi^2 = \\sum_{i=1}^N\\, \\left( \\frac{X_\\text{out}^i - Y_\\text{tgt}^i}{\\sigma_Y^i}\\right)^2 \\; .\n",
    "$$"
   ]
  },
  {
   "cell_type": "markdown",
   "metadata": {
    "id": "6K9_iPeKKJJv"
   },
   "source": [
    "#### Binary Classification Loss"
   ]
  },
  {
   "cell_type": "markdown",
   "metadata": {
    "id": "WRnLPKGCKJJx"
   },
   "source": [
    "For binary classification problems, the L2 norm can also be used but the binary [cross entropy](https://en.wikipedia.org/wiki/Cross_entropy) between the target and output probability distributions is often a better choice:\n",
    "$$\n",
    "\\text{BCE} \\equiv -\\sum_{i=1}^N\\, \\left[\n",
    "Y_{tgt}^i \\log \\phi_S(X_\\text{out}^i) + (1 - Y_\\text{tgt}^i) \\log (1 - \\phi_S(X_\\text{out}^i)) \\right]\n",
    "$$\n",
    "where $\\phi_S$ is the sigmoid (aka logistic) activation function used to coerce arbitrary real values into the range $[0,1]$ required for a probability. The value $X_\\text{out}^i$ feeding a sigmoid like this is known as a [logit](https://en.wikipedia.org/wiki/Logit).\n",
    "\n",
    "The equivalent PyTorch code uses [torch.nn.BCELoss](https://pytorch.org/docs/stable/nn.html#bceloss):"
   ]
  },
  {
   "cell_type": "code",
   "execution_count": 25,
   "metadata": {
    "id": "wUk_zgWyKJJx"
   },
   "outputs": [],
   "source": [
    "Xout = torch.ones(10)\n",
    "Y = torch.zeros(10)\n",
    "loss = torch.nn.BCELoss()(Xout, Y)"
   ]
  },
  {
   "cell_type": "markdown",
   "metadata": {
    "id": "RabfV9UBKJJx"
   },
   "source": [
    "The cross entropy is inspired by information theory and closely related to the KL divergence we met [earlier](Variational.ipynb). With this approach, our assumptions are that:\n",
    " - The target values in $Y_{tgt}$ are all either 0 or 1.\n",
    " - The network output values in $X_{out}$ are continuous and $\\phi_S(y^{out}_i)$ is interpreted as the corresponding probability that the output is 1.\n",
    " \n",
    "Note that *something* like the second assumption is necessary to reconcile the different domains of the data and prediction.\n",
    "\n",
    "With these assumptions, the likelihood is:\n",
    "$$\n",
    "P(Y_\\text{tgt}\\mid X_\\text{out}) = \\begin{cases}\n",
    "\\phi_S(X_\\text{out}) & Y_\\text{tgt} = 1 \\\\\n",
    "1 - \\phi_S(X_\\text{out}) & Y_\\text{tgt} = 0\n",
    "\\end{cases}\n",
    "$$\n",
    "Take a minute to convince yourself that the following expression is equivalent (the case $\\phi_S(X_\\text{out}(\\Theta)) = Y_\\text{tgt} = 0$ requires some care since $0^0$ is indeterminate):\n",
    "$$\n",
    "P(Y_\\text{tgt}\\mid X_\\text{out}(\\Theta)) = \\left[\\phi_S(X_\\text{out}(\\Theta))\\right]^{Y_\\text{tgt}}\\,\n",
    "\\left[1 - \\phi_S(X_\\text{out}(\\Theta))\\right]^{1-Y_\\text{tgt}} \\; .\n",
    "$$\n",
    "Using this form, you can show that the cross entropy loss equals the negative-log-likelihood of the $N$ samples of training data so optimizing BCE is equivalent to finding the ML point estimate of the network parameters under the assumptions above.\n",
    "\n",
    "For fixed training data, optimizing BCE is also equivalent to minimizing the KL divergence of the network's predicted discrete probability distribution with respect to the empirical discrete probability distribution of the training data. Therefore, training a binary classification network using the cross-entropy loss is effectively performing a variational inference (VI) to find the network probabilities that are closest to the empirical training probabilities."
   ]
  },
  {
   "cell_type": "markdown",
   "metadata": {
    "id": "CuzPVei-KJJy"
   },
   "source": [
    "#### Multi-category Classification Loss"
   ]
  },
  {
   "cell_type": "markdown",
   "metadata": {
    "id": "9t1uQPKKKJJy"
   },
   "source": [
    "How can we generalize the binary classification cross-entropy loss to problems with more than two categories?  The usual approach is to increase the number of output nodes from 1 to the number of categories $C$,\n",
    "but we can not directly interpret their values as category probabilities since there is no way to ensure that they sum to one. We could simply require that they are all non-negative and renormalize, but a more more robust approach is to convert the vector of output values $X_\\text{out}$ to a corresponding vector of probabilities $\\mathbf{p}$ for category $j = 1, 2, \\ldots, C$ using the **softmax function**,\n",
    "$$\n",
    "\\mathbf{p}(X_\\text{out}) \\equiv \\frac{1}{\\sum_{k=1}^C\\, \\exp(X_\\text{out}^k)}\\,\n",
    "[ \\exp(X_\\text{out}^1), \\exp(X_\\text{out}^2), \\ldots, \\exp(X_\\text{out}^C) ] \\; ,\n",
    "$$\n",
    "which works fine with positive or negative outputs $X_\\text{out}^j$. Note that softmax generalizes the sigmoid function $\\phi_S$ in the following sense:\n",
    "$$\n",
    "\\mathbf{p}([y_1, y_2]) = [\\,\\phi_S(y_1-y_2)\\,,\\, 1 - \\phi_S(y_1-y_2)\\,] \\; .\n",
    "$$"
   ]
  },
  {
   "cell_type": "code",
   "execution_count": 26,
   "metadata": {
    "id": "rYVL1ogfKJJ0"
   },
   "outputs": [],
   "source": [
    "def softmax(y):\n",
    "    # subtract out max(y) improve the numerical accuracy\n",
    "    expy = np.exp(y - np.max(y))\n",
    "    return expy / expy.sum()"
   ]
  },
  {
   "cell_type": "code",
   "execution_count": 27,
   "metadata": {
    "id": "k9ls_1bFKJJ0"
   },
   "outputs": [
    {
     "data": {
      "text/plain": [
       "array([0.26538793, 0.01321289, 0.72139918])"
      ]
     },
     "execution_count": 27,
     "metadata": {},
     "output_type": "execute_result"
    }
   ],
   "source": [
    "softmax([2, -1, 3])"
   ]
  },
  {
   "cell_type": "markdown",
   "metadata": {
    "id": "oUTBYpqXKJJ1"
   },
   "source": [
    "The softmax function effectively implements a *winner takes all* policy, similar to the sigmoid activation $\\phi_S$, as illustrated in the plot below where:\n",
    " - the color scale indicates, from left to right, $p_1, p_2$ and $p_3$ for three categories,\n",
    " - $y_1$ and $y_2$ are varied over the same range, and\n",
    " - $y_3$ is fixed to the middle of this range."
   ]
  },
  {
   "cell_type": "code",
   "execution_count": 28,
   "metadata": {
    "id": "NUWgXNyOKJJ2",
    "scrolled": true
   },
   "outputs": [
    {
     "data": {
      "image/png": "[encoded data removed]",
      "text/plain": [
       "<Figure size 1050x300 with 3 Axes>"
      ]
     },
     "metadata": {},
     "output_type": "display_data"
    }
   ],
   "source": [
    "def plot_softmax(ylo, yhi, n=100):\n",
    "    y_grid = np.linspace(ylo, yhi, n)\n",
    "    y3 = 0.5 * (ylo + yhi)\n",
    "    p_grid = np.array([softmax([y1, y2, y3]) for y1 in y_grid for y2 in y_grid]).reshape(n, n, 3)\n",
    "    _, ax = plt.subplots(1, 3, figsize=(10.5, 3))\n",
    "    for k in range(3):\n",
    "        ax[k].imshow(p_grid[:, :, k], interpolation='none', origin='lower', extent=[ylo, yhi, ylo, yhi])\n",
    "        ax[k].set_ylabel('$y_1$')\n",
    "        ax[k].set_xlabel('$y_2$')\n",
    "        if k != 0: ax[k].axvline(y3, c='gray', ls='--')\n",
    "        if k != 1: ax[k].axhline(y3, c='gray', ls='--')\n",
    "        if k != 2: ax[k].plot([ylo, yhi], [ylo, yhi], c='gray', ls='--')\n",
    "        ax[k].grid(False)\n",
    "    \n",
    "plot_softmax(0, 15)"
   ]
  },
  {
   "cell_type": "markdown",
   "metadata": {},
   "source": [
    "This is what we mean by \"winner take all\".  In the left plot, wherever $y_1$ is larger than $y_2$ and $y_3$ we see the softmax output for $p_1$ is high.  ($y_3$ is always set to 8 in this example.)  Similarly, in the middle plot, wherever $y_2$ is larger than $y_1$ or $y_3$, $p_2$ wins.  In the right plot, $p_3$ only wins when $y_1$ and $y_2$ are small."
   ]
  },
  {
   "cell_type": "markdown",
   "metadata": {
    "id": "gZTchSshKJJ2"
   },
   "source": [
    "The example above assumed output activations that can be large and positive, such as `relu` or `elu`. However, the strength of the *winner takes all* effect depends on how the outputs are scaled, and is relatively weak for output activations that saturate on both sides, such as `sigmoid` or `tanh`, which is why these are generally not used for classification outputs:"
   ]
  },
  {
   "cell_type": "code",
   "execution_count": 29,
   "metadata": {
    "id": "KQ_1XdzuKJJ3"
   },
   "outputs": [
    {
     "data": {
      "image/png": "[encoded data removed]",
      "text/plain": [
       "<Figure size 1050x300 with 3 Axes>"
      ]
     },
     "metadata": {},
     "output_type": "display_data"
    }
   ],
   "source": [
    "plot_softmax(-1, +1)"
   ]
  },
  {
   "cell_type": "markdown",
   "metadata": {
    "id": "3azNXiR0KJJ3"
   },
   "source": [
    "Note that we assume [one-hot encoding](https://en.wikipedia.org/wiki/One-hot) of the vector target values $\\mathbf{y}^{out}$, which is not very efficient (unless using sparse-optimized data structures) compared to a single integer target value $y^{train} = 0, 1, \\ldots, C-1$. However, sklearn has a [convenient utility](http://scikit-learn.org/stable/modules/generated/sklearn.preprocessing.OneHotEncoder.html) to convert integers to one-hot encoded vectors (use `sparse=True` to return vectors in an efficient [scipy sparse array](https://docs.scipy.org/doc/scipy/reference/sparse.html))."
   ]
  },
  {
   "cell_type": "code",
   "execution_count": null,
   "metadata": {
    "id": "ZWwM_PMHpPxk"
   },
   "outputs": [],
   "source": []
  },
  {
   "cell_type": "code",
   "execution_count": null,
   "metadata": {},
   "outputs": [],
   "source": []
  }
 ],
 "metadata": {
  "colab": {
   "authorship_tag": "ABX9TyPn78pyQpA3nGN/C6NUUSBm",
   "name": "NeuralNetworks.ipynb",
   "provenance": []
  },
  "kernelspec": {
   "display_name": "Python [conda env:PHYS152-2023]",
   "language": "python",
   "name": "conda-env-PHYS152-2023-py"
  },
  "language_info": {
   "codemirror_mode": {
    "name": "ipython",
    "version": 3
   },
   "file_extension": ".py",
   "mimetype": "text/x-python",
   "name": "python",
   "nbconvert_exporter": "python",
   "pygments_lexer": "ipython3",
   "version": "3.8.16"
  }
 },
 "nbformat": 4,
 "nbformat_minor": 1
}
